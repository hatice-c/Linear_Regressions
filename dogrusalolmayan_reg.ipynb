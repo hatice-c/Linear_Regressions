{
 "cells": [
  {
   "cell_type": "code",
   "execution_count": 1,
   "metadata": {},
   "outputs": [
    {
     "data": {
      "text/html": [
       "<div>\n",
       "<style scoped>\n",
       "    .dataframe tbody tr th:only-of-type {\n",
       "        vertical-align: middle;\n",
       "    }\n",
       "\n",
       "    .dataframe tbody tr th {\n",
       "        vertical-align: top;\n",
       "    }\n",
       "\n",
       "    .dataframe thead th {\n",
       "        text-align: right;\n",
       "    }\n",
       "</style>\n",
       "<table border=\"1\" class=\"dataframe\">\n",
       "  <thead>\n",
       "    <tr style=\"text-align: right;\">\n",
       "      <th></th>\n",
       "      <th>AtBat</th>\n",
       "      <th>Hits</th>\n",
       "      <th>HmRun</th>\n",
       "      <th>Runs</th>\n",
       "      <th>RBI</th>\n",
       "      <th>Walks</th>\n",
       "      <th>Years</th>\n",
       "      <th>CAtBat</th>\n",
       "      <th>CHits</th>\n",
       "      <th>CHmRun</th>\n",
       "      <th>CRuns</th>\n",
       "      <th>CRBI</th>\n",
       "      <th>CWalks</th>\n",
       "      <th>League</th>\n",
       "      <th>Division</th>\n",
       "      <th>PutOuts</th>\n",
       "      <th>Assists</th>\n",
       "      <th>Errors</th>\n",
       "      <th>Salary</th>\n",
       "      <th>NewLeague</th>\n",
       "    </tr>\n",
       "  </thead>\n",
       "  <tbody>\n",
       "    <tr>\n",
       "      <th>0</th>\n",
       "      <td>293</td>\n",
       "      <td>66</td>\n",
       "      <td>1</td>\n",
       "      <td>30</td>\n",
       "      <td>29</td>\n",
       "      <td>14</td>\n",
       "      <td>1</td>\n",
       "      <td>293</td>\n",
       "      <td>66</td>\n",
       "      <td>1</td>\n",
       "      <td>30</td>\n",
       "      <td>29</td>\n",
       "      <td>14</td>\n",
       "      <td>A</td>\n",
       "      <td>E</td>\n",
       "      <td>446</td>\n",
       "      <td>33</td>\n",
       "      <td>20</td>\n",
       "      <td>NaN</td>\n",
       "      <td>A</td>\n",
       "    </tr>\n",
       "    <tr>\n",
       "      <th>1</th>\n",
       "      <td>315</td>\n",
       "      <td>81</td>\n",
       "      <td>7</td>\n",
       "      <td>24</td>\n",
       "      <td>38</td>\n",
       "      <td>39</td>\n",
       "      <td>14</td>\n",
       "      <td>3449</td>\n",
       "      <td>835</td>\n",
       "      <td>69</td>\n",
       "      <td>321</td>\n",
       "      <td>414</td>\n",
       "      <td>375</td>\n",
       "      <td>N</td>\n",
       "      <td>W</td>\n",
       "      <td>632</td>\n",
       "      <td>43</td>\n",
       "      <td>10</td>\n",
       "      <td>475.0</td>\n",
       "      <td>N</td>\n",
       "    </tr>\n",
       "    <tr>\n",
       "      <th>2</th>\n",
       "      <td>479</td>\n",
       "      <td>130</td>\n",
       "      <td>18</td>\n",
       "      <td>66</td>\n",
       "      <td>72</td>\n",
       "      <td>76</td>\n",
       "      <td>3</td>\n",
       "      <td>1624</td>\n",
       "      <td>457</td>\n",
       "      <td>63</td>\n",
       "      <td>224</td>\n",
       "      <td>266</td>\n",
       "      <td>263</td>\n",
       "      <td>A</td>\n",
       "      <td>W</td>\n",
       "      <td>880</td>\n",
       "      <td>82</td>\n",
       "      <td>14</td>\n",
       "      <td>480.0</td>\n",
       "      <td>A</td>\n",
       "    </tr>\n",
       "    <tr>\n",
       "      <th>3</th>\n",
       "      <td>496</td>\n",
       "      <td>141</td>\n",
       "      <td>20</td>\n",
       "      <td>65</td>\n",
       "      <td>78</td>\n",
       "      <td>37</td>\n",
       "      <td>11</td>\n",
       "      <td>5628</td>\n",
       "      <td>1575</td>\n",
       "      <td>225</td>\n",
       "      <td>828</td>\n",
       "      <td>838</td>\n",
       "      <td>354</td>\n",
       "      <td>N</td>\n",
       "      <td>E</td>\n",
       "      <td>200</td>\n",
       "      <td>11</td>\n",
       "      <td>3</td>\n",
       "      <td>500.0</td>\n",
       "      <td>N</td>\n",
       "    </tr>\n",
       "    <tr>\n",
       "      <th>4</th>\n",
       "      <td>321</td>\n",
       "      <td>87</td>\n",
       "      <td>10</td>\n",
       "      <td>39</td>\n",
       "      <td>42</td>\n",
       "      <td>30</td>\n",
       "      <td>2</td>\n",
       "      <td>396</td>\n",
       "      <td>101</td>\n",
       "      <td>12</td>\n",
       "      <td>48</td>\n",
       "      <td>46</td>\n",
       "      <td>33</td>\n",
       "      <td>N</td>\n",
       "      <td>E</td>\n",
       "      <td>805</td>\n",
       "      <td>40</td>\n",
       "      <td>4</td>\n",
       "      <td>91.5</td>\n",
       "      <td>N</td>\n",
       "    </tr>\n",
       "  </tbody>\n",
       "</table>\n",
       "</div>"
      ],
      "text/plain": [
       "   AtBat  Hits  HmRun  Runs  RBI  Walks  Years  CAtBat  CHits  CHmRun  CRuns  \\\n",
       "0    293    66      1    30   29     14      1     293     66       1     30   \n",
       "1    315    81      7    24   38     39     14    3449    835      69    321   \n",
       "2    479   130     18    66   72     76      3    1624    457      63    224   \n",
       "3    496   141     20    65   78     37     11    5628   1575     225    828   \n",
       "4    321    87     10    39   42     30      2     396    101      12     48   \n",
       "\n",
       "   CRBI  CWalks League Division  PutOuts  Assists  Errors  Salary NewLeague  \n",
       "0    29      14      A        E      446       33      20     NaN         A  \n",
       "1   414     375      N        W      632       43      10   475.0         N  \n",
       "2   266     263      A        W      880       82      14   480.0         A  \n",
       "3   838     354      N        E      200       11       3   500.0         N  \n",
       "4    46      33      N        E      805       40       4    91.5         N  "
      ]
     },
     "execution_count": 1,
     "metadata": {},
     "output_type": "execute_result"
    }
   ],
   "source": [
    "\n",
    "\n",
    "import pandas as pd\n",
    "import numpy as np\n",
    "from sklearn.neighbors import LocalOutlierFactor\n",
    "from sklearn.preprocessing import StandardScaler\n",
    "from sklearn.model_selection import train_test_split, cross_val_score, GridSearchCV\n",
    "from sklearn.linear_model import LinearRegression, Ridge, RidgeCV, ElasticNet, Lasso, LassoCV\n",
    "from sklearn.metrics import mean_squared_error\n",
    "from sklearn.model_selection import cross_val_score\n",
    "from sklearn import metrics\n",
    "from sklearn.metrics import mean_squared_error, r2_score\n",
    "import matplotlib.pyplot as plt\n",
    "from sklearn.preprocessing import scale \n",
    "from sklearn import model_selection\n",
    "from sklearn.tree import DecisionTreeRegressor, DecisionTreeClassifier\n",
    "from sklearn.neighbors import KNeighborsRegressor\n",
    "from sklearn.ensemble import BaggingRegressor\n",
    "\n",
    "from warnings import filterwarnings\n",
    "filterwarnings('ignore')\n",
    "ad = pd.read_csv(\"Hitters.csv\")\n",
    "df = ad.copy()\n",
    "df.head()"
   ]
  },
  {
   "cell_type": "code",
   "execution_count": 2,
   "metadata": {},
   "outputs": [
    {
     "data": {
      "text/plain": [
       "(322, 20)"
      ]
     },
     "execution_count": 2,
     "metadata": {},
     "output_type": "execute_result"
    }
   ],
   "source": [
    "df.shape\n"
   ]
  },
  {
   "cell_type": "code",
   "execution_count": 3,
   "metadata": {},
   "outputs": [
    {
     "name": "stdout",
     "output_type": "stream",
     "text": [
      "<class 'pandas.core.frame.DataFrame'>\n",
      "RangeIndex: 322 entries, 0 to 321\n",
      "Data columns (total 20 columns):\n",
      " #   Column     Non-Null Count  Dtype  \n",
      "---  ------     --------------  -----  \n",
      " 0   AtBat      322 non-null    int64  \n",
      " 1   Hits       322 non-null    int64  \n",
      " 2   HmRun      322 non-null    int64  \n",
      " 3   Runs       322 non-null    int64  \n",
      " 4   RBI        322 non-null    int64  \n",
      " 5   Walks      322 non-null    int64  \n",
      " 6   Years      322 non-null    int64  \n",
      " 7   CAtBat     322 non-null    int64  \n",
      " 8   CHits      322 non-null    int64  \n",
      " 9   CHmRun     322 non-null    int64  \n",
      " 10  CRuns      322 non-null    int64  \n",
      " 11  CRBI       322 non-null    int64  \n",
      " 12  CWalks     322 non-null    int64  \n",
      " 13  League     322 non-null    object \n",
      " 14  Division   322 non-null    object \n",
      " 15  PutOuts    322 non-null    int64  \n",
      " 16  Assists    322 non-null    int64  \n",
      " 17  Errors     322 non-null    int64  \n",
      " 18  Salary     263 non-null    float64\n",
      " 19  NewLeague  322 non-null    object \n",
      "dtypes: float64(1), int64(16), object(3)\n",
      "memory usage: 50.4+ KB\n"
     ]
    }
   ],
   "source": [
    "df.info()"
   ]
  },
  {
   "cell_type": "code",
   "execution_count": 4,
   "metadata": {},
   "outputs": [
    {
     "data": {
      "text/plain": [
       "True"
      ]
     },
     "execution_count": 4,
     "metadata": {},
     "output_type": "execute_result"
    }
   ],
   "source": [
    "df.isnull().values.any()"
   ]
  },
  {
   "cell_type": "code",
   "execution_count": 5,
   "metadata": {},
   "outputs": [
    {
     "data": {
      "text/plain": [
       "AtBat        247\n",
       "Hits         144\n",
       "HmRun         36\n",
       "Runs          96\n",
       "RBI          103\n",
       "Walks         89\n",
       "Years         22\n",
       "CAtBat       314\n",
       "CHits        288\n",
       "CHmRun       146\n",
       "CRuns        261\n",
       "CRBI         262\n",
       "CWalks       248\n",
       "League         2\n",
       "Division       2\n",
       "PutOuts      232\n",
       "Assists      161\n",
       "Errors        29\n",
       "Salary       150\n",
       "NewLeague      2\n",
       "dtype: int64"
      ]
     },
     "execution_count": 5,
     "metadata": {},
     "output_type": "execute_result"
    }
   ],
   "source": [
    "df.nunique()"
   ]
  },
  {
   "cell_type": "code",
   "execution_count": 6,
   "metadata": {},
   "outputs": [
    {
     "data": {
      "text/plain": [
       "A    175\n",
       "N    147\n",
       "Name: League, dtype: int64"
      ]
     },
     "execution_count": 6,
     "metadata": {},
     "output_type": "execute_result"
    }
   ],
   "source": [
    "df[\"League\"].value_counts()"
   ]
  },
  {
   "cell_type": "code",
   "execution_count": 7,
   "metadata": {},
   "outputs": [
    {
     "data": {
      "image/png": "[encoded data removed]",
      "text/plain": [
       "<Figure size 432x288 with 1 Axes>"
      ]
     },
     "metadata": {
      "needs_background": "light"
     },
     "output_type": "display_data"
    }
   ],
   "source": [
    "df.League.value_counts().plot.barh();"
   ]
  },
  {
   "cell_type": "code",
   "execution_count": 8,
   "metadata": {},
   "outputs": [
    {
     "data": {
      "image/png": "[encoded data removed]",
      "text/plain": [
       "<Figure size 432x288 with 1 Axes>"
      ]
     },
     "metadata": {
      "needs_background": "light"
     },
     "output_type": "display_data"
    }
   ],
   "source": [
    "# Salary (Maaş) değişkeninin histogram ve yoğunluk grafiği çizdirilmiştir.\n",
    "import seaborn as sns\n",
    "sns.distplot(df.Salary);"
   ]
  },
  {
   "cell_type": "code",
   "execution_count": 9,
   "metadata": {},
   "outputs": [
    {
     "data": {
      "text/html": [
       "<div>\n",
       "<style scoped>\n",
       "    .dataframe tbody tr th:only-of-type {\n",
       "        vertical-align: middle;\n",
       "    }\n",
       "\n",
       "    .dataframe tbody tr th {\n",
       "        vertical-align: top;\n",
       "    }\n",
       "\n",
       "    .dataframe thead th {\n",
       "        text-align: right;\n",
       "    }\n",
       "</style>\n",
       "<table border=\"1\" class=\"dataframe\">\n",
       "  <thead>\n",
       "    <tr style=\"text-align: right;\">\n",
       "      <th></th>\n",
       "      <th>AtBat</th>\n",
       "      <th>Hits</th>\n",
       "      <th>HmRun</th>\n",
       "      <th>Runs</th>\n",
       "      <th>RBI</th>\n",
       "      <th>Walks</th>\n",
       "      <th>Years</th>\n",
       "      <th>CAtBat</th>\n",
       "      <th>CHits</th>\n",
       "      <th>CHmRun</th>\n",
       "      <th>CRuns</th>\n",
       "      <th>CRBI</th>\n",
       "      <th>CWalks</th>\n",
       "      <th>PutOuts</th>\n",
       "      <th>Assists</th>\n",
       "      <th>Errors</th>\n",
       "      <th>Salary</th>\n",
       "    </tr>\n",
       "  </thead>\n",
       "  <tbody>\n",
       "    <tr>\n",
       "      <th>AtBat</th>\n",
       "      <td>1.000000</td>\n",
       "      <td>0.967939</td>\n",
       "      <td>0.592198</td>\n",
       "      <td>0.913060</td>\n",
       "      <td>0.820539</td>\n",
       "      <td>0.669845</td>\n",
       "      <td>0.047372</td>\n",
       "      <td>0.235526</td>\n",
       "      <td>0.252717</td>\n",
       "      <td>0.236659</td>\n",
       "      <td>0.266534</td>\n",
       "      <td>0.244053</td>\n",
       "      <td>0.166123</td>\n",
       "      <td>0.317550</td>\n",
       "      <td>0.353824</td>\n",
       "      <td>0.352117</td>\n",
       "      <td>0.394771</td>\n",
       "    </tr>\n",
       "    <tr>\n",
       "      <th>Hits</th>\n",
       "      <td>0.967939</td>\n",
       "      <td>1.000000</td>\n",
       "      <td>0.562158</td>\n",
       "      <td>0.922187</td>\n",
       "      <td>0.811073</td>\n",
       "      <td>0.641211</td>\n",
       "      <td>0.044767</td>\n",
       "      <td>0.227565</td>\n",
       "      <td>0.255815</td>\n",
       "      <td>0.202712</td>\n",
       "      <td>0.261787</td>\n",
       "      <td>0.232005</td>\n",
       "      <td>0.151818</td>\n",
       "      <td>0.310673</td>\n",
       "      <td>0.320455</td>\n",
       "      <td>0.310038</td>\n",
       "      <td>0.438675</td>\n",
       "    </tr>\n",
       "    <tr>\n",
       "      <th>HmRun</th>\n",
       "      <td>0.592198</td>\n",
       "      <td>0.562158</td>\n",
       "      <td>1.000000</td>\n",
       "      <td>0.650988</td>\n",
       "      <td>0.855122</td>\n",
       "      <td>0.481014</td>\n",
       "      <td>0.116318</td>\n",
       "      <td>0.221882</td>\n",
       "      <td>0.220627</td>\n",
       "      <td>0.493227</td>\n",
       "      <td>0.262361</td>\n",
       "      <td>0.351979</td>\n",
       "      <td>0.233154</td>\n",
       "      <td>0.282923</td>\n",
       "      <td>-0.106329</td>\n",
       "      <td>0.039318</td>\n",
       "      <td>0.343028</td>\n",
       "    </tr>\n",
       "    <tr>\n",
       "      <th>Runs</th>\n",
       "      <td>0.913060</td>\n",
       "      <td>0.922187</td>\n",
       "      <td>0.650988</td>\n",
       "      <td>1.000000</td>\n",
       "      <td>0.798206</td>\n",
       "      <td>0.732213</td>\n",
       "      <td>0.004541</td>\n",
       "      <td>0.186497</td>\n",
       "      <td>0.204830</td>\n",
       "      <td>0.227913</td>\n",
       "      <td>0.250556</td>\n",
       "      <td>0.205976</td>\n",
       "      <td>0.182168</td>\n",
       "      <td>0.279347</td>\n",
       "      <td>0.220567</td>\n",
       "      <td>0.240475</td>\n",
       "      <td>0.419859</td>\n",
       "    </tr>\n",
       "    <tr>\n",
       "      <th>RBI</th>\n",
       "      <td>0.820539</td>\n",
       "      <td>0.811073</td>\n",
       "      <td>0.855122</td>\n",
       "      <td>0.798206</td>\n",
       "      <td>1.000000</td>\n",
       "      <td>0.615997</td>\n",
       "      <td>0.146168</td>\n",
       "      <td>0.294688</td>\n",
       "      <td>0.308201</td>\n",
       "      <td>0.441771</td>\n",
       "      <td>0.323285</td>\n",
       "      <td>0.393184</td>\n",
       "      <td>0.250914</td>\n",
       "      <td>0.343186</td>\n",
       "      <td>0.106591</td>\n",
       "      <td>0.193370</td>\n",
       "      <td>0.449457</td>\n",
       "    </tr>\n",
       "    <tr>\n",
       "      <th>Walks</th>\n",
       "      <td>0.669845</td>\n",
       "      <td>0.641211</td>\n",
       "      <td>0.481014</td>\n",
       "      <td>0.732213</td>\n",
       "      <td>0.615997</td>\n",
       "      <td>1.000000</td>\n",
       "      <td>0.136475</td>\n",
       "      <td>0.277175</td>\n",
       "      <td>0.280671</td>\n",
       "      <td>0.332473</td>\n",
       "      <td>0.338478</td>\n",
       "      <td>0.308631</td>\n",
       "      <td>0.424507</td>\n",
       "      <td>0.299515</td>\n",
       "      <td>0.149656</td>\n",
       "      <td>0.129382</td>\n",
       "      <td>0.443867</td>\n",
       "    </tr>\n",
       "    <tr>\n",
       "      <th>Years</th>\n",
       "      <td>0.047372</td>\n",
       "      <td>0.044767</td>\n",
       "      <td>0.116318</td>\n",
       "      <td>0.004541</td>\n",
       "      <td>0.146168</td>\n",
       "      <td>0.136475</td>\n",
       "      <td>1.000000</td>\n",
       "      <td>0.920289</td>\n",
       "      <td>0.903631</td>\n",
       "      <td>0.726872</td>\n",
       "      <td>0.882877</td>\n",
       "      <td>0.868812</td>\n",
       "      <td>0.838533</td>\n",
       "      <td>-0.004684</td>\n",
       "      <td>-0.080638</td>\n",
       "      <td>-0.162140</td>\n",
       "      <td>0.400657</td>\n",
       "    </tr>\n",
       "    <tr>\n",
       "      <th>CAtBat</th>\n",
       "      <td>0.235526</td>\n",
       "      <td>0.227565</td>\n",
       "      <td>0.221882</td>\n",
       "      <td>0.186497</td>\n",
       "      <td>0.294688</td>\n",
       "      <td>0.277175</td>\n",
       "      <td>0.920289</td>\n",
       "      <td>1.000000</td>\n",
       "      <td>0.995063</td>\n",
       "      <td>0.798836</td>\n",
       "      <td>0.983345</td>\n",
       "      <td>0.949219</td>\n",
       "      <td>0.906501</td>\n",
       "      <td>0.062283</td>\n",
       "      <td>0.002038</td>\n",
       "      <td>-0.066922</td>\n",
       "      <td>0.526135</td>\n",
       "    </tr>\n",
       "    <tr>\n",
       "      <th>CHits</th>\n",
       "      <td>0.252717</td>\n",
       "      <td>0.255815</td>\n",
       "      <td>0.220627</td>\n",
       "      <td>0.204830</td>\n",
       "      <td>0.308201</td>\n",
       "      <td>0.280671</td>\n",
       "      <td>0.903631</td>\n",
       "      <td>0.995063</td>\n",
       "      <td>1.000000</td>\n",
       "      <td>0.783306</td>\n",
       "      <td>0.984609</td>\n",
       "      <td>0.945141</td>\n",
       "      <td>0.890954</td>\n",
       "      <td>0.076547</td>\n",
       "      <td>-0.002523</td>\n",
       "      <td>-0.062756</td>\n",
       "      <td>0.548910</td>\n",
       "    </tr>\n",
       "    <tr>\n",
       "      <th>CHmRun</th>\n",
       "      <td>0.236659</td>\n",
       "      <td>0.202712</td>\n",
       "      <td>0.493227</td>\n",
       "      <td>0.227913</td>\n",
       "      <td>0.441771</td>\n",
       "      <td>0.332473</td>\n",
       "      <td>0.726872</td>\n",
       "      <td>0.798836</td>\n",
       "      <td>0.783306</td>\n",
       "      <td>1.000000</td>\n",
       "      <td>0.820243</td>\n",
       "      <td>0.929484</td>\n",
       "      <td>0.799983</td>\n",
       "      <td>0.112724</td>\n",
       "      <td>-0.158511</td>\n",
       "      <td>-0.138115</td>\n",
       "      <td>0.524931</td>\n",
       "    </tr>\n",
       "    <tr>\n",
       "      <th>CRuns</th>\n",
       "      <td>0.266534</td>\n",
       "      <td>0.261787</td>\n",
       "      <td>0.262361</td>\n",
       "      <td>0.250556</td>\n",
       "      <td>0.323285</td>\n",
       "      <td>0.338478</td>\n",
       "      <td>0.882877</td>\n",
       "      <td>0.983345</td>\n",
       "      <td>0.984609</td>\n",
       "      <td>0.820243</td>\n",
       "      <td>1.000000</td>\n",
       "      <td>0.943769</td>\n",
       "      <td>0.927807</td>\n",
       "      <td>0.064180</td>\n",
       "      <td>-0.022978</td>\n",
       "      <td>-0.084395</td>\n",
       "      <td>0.562678</td>\n",
       "    </tr>\n",
       "    <tr>\n",
       "      <th>CRBI</th>\n",
       "      <td>0.244053</td>\n",
       "      <td>0.232005</td>\n",
       "      <td>0.351979</td>\n",
       "      <td>0.205976</td>\n",
       "      <td>0.393184</td>\n",
       "      <td>0.308631</td>\n",
       "      <td>0.868812</td>\n",
       "      <td>0.949219</td>\n",
       "      <td>0.945141</td>\n",
       "      <td>0.929484</td>\n",
       "      <td>0.943769</td>\n",
       "      <td>1.000000</td>\n",
       "      <td>0.884726</td>\n",
       "      <td>0.110098</td>\n",
       "      <td>-0.079387</td>\n",
       "      <td>-0.100990</td>\n",
       "      <td>0.566966</td>\n",
       "    </tr>\n",
       "    <tr>\n",
       "      <th>CWalks</th>\n",
       "      <td>0.166123</td>\n",
       "      <td>0.151818</td>\n",
       "      <td>0.233154</td>\n",
       "      <td>0.182168</td>\n",
       "      <td>0.250914</td>\n",
       "      <td>0.424507</td>\n",
       "      <td>0.838533</td>\n",
       "      <td>0.906501</td>\n",
       "      <td>0.890954</td>\n",
       "      <td>0.799983</td>\n",
       "      <td>0.927807</td>\n",
       "      <td>0.884726</td>\n",
       "      <td>1.000000</td>\n",
       "      <td>0.058638</td>\n",
       "      <td>-0.039130</td>\n",
       "      <td>-0.118475</td>\n",
       "      <td>0.489822</td>\n",
       "    </tr>\n",
       "    <tr>\n",
       "      <th>PutOuts</th>\n",
       "      <td>0.317550</td>\n",
       "      <td>0.310673</td>\n",
       "      <td>0.282923</td>\n",
       "      <td>0.279347</td>\n",
       "      <td>0.343186</td>\n",
       "      <td>0.299515</td>\n",
       "      <td>-0.004684</td>\n",
       "      <td>0.062283</td>\n",
       "      <td>0.076547</td>\n",
       "      <td>0.112724</td>\n",
       "      <td>0.064180</td>\n",
       "      <td>0.110098</td>\n",
       "      <td>0.058638</td>\n",
       "      <td>1.000000</td>\n",
       "      <td>-0.025024</td>\n",
       "      <td>0.109972</td>\n",
       "      <td>0.300480</td>\n",
       "    </tr>\n",
       "    <tr>\n",
       "      <th>Assists</th>\n",
       "      <td>0.353824</td>\n",
       "      <td>0.320455</td>\n",
       "      <td>-0.106329</td>\n",
       "      <td>0.220567</td>\n",
       "      <td>0.106591</td>\n",
       "      <td>0.149656</td>\n",
       "      <td>-0.080638</td>\n",
       "      <td>0.002038</td>\n",
       "      <td>-0.002523</td>\n",
       "      <td>-0.158511</td>\n",
       "      <td>-0.022978</td>\n",
       "      <td>-0.079387</td>\n",
       "      <td>-0.039130</td>\n",
       "      <td>-0.025024</td>\n",
       "      <td>1.000000</td>\n",
       "      <td>0.706362</td>\n",
       "      <td>0.025436</td>\n",
       "    </tr>\n",
       "    <tr>\n",
       "      <th>Errors</th>\n",
       "      <td>0.352117</td>\n",
       "      <td>0.310038</td>\n",
       "      <td>0.039318</td>\n",
       "      <td>0.240475</td>\n",
       "      <td>0.193370</td>\n",
       "      <td>0.129382</td>\n",
       "      <td>-0.162140</td>\n",
       "      <td>-0.066922</td>\n",
       "      <td>-0.062756</td>\n",
       "      <td>-0.138115</td>\n",
       "      <td>-0.084395</td>\n",
       "      <td>-0.100990</td>\n",
       "      <td>-0.118475</td>\n",
       "      <td>0.109972</td>\n",
       "      <td>0.706362</td>\n",
       "      <td>1.000000</td>\n",
       "      <td>-0.005401</td>\n",
       "    </tr>\n",
       "    <tr>\n",
       "      <th>Salary</th>\n",
       "      <td>0.394771</td>\n",
       "      <td>0.438675</td>\n",
       "      <td>0.343028</td>\n",
       "      <td>0.419859</td>\n",
       "      <td>0.449457</td>\n",
       "      <td>0.443867</td>\n",
       "      <td>0.400657</td>\n",
       "      <td>0.526135</td>\n",
       "      <td>0.548910</td>\n",
       "      <td>0.524931</td>\n",
       "      <td>0.562678</td>\n",
       "      <td>0.566966</td>\n",
       "      <td>0.489822</td>\n",
       "      <td>0.300480</td>\n",
       "      <td>0.025436</td>\n",
       "      <td>-0.005401</td>\n",
       "      <td>1.000000</td>\n",
       "    </tr>\n",
       "  </tbody>\n",
       "</table>\n",
       "</div>"
      ],
      "text/plain": [
       "            AtBat      Hits     HmRun      Runs       RBI     Walks     Years  \\\n",
       "AtBat    1.000000  0.967939  0.592198  0.913060  0.820539  0.669845  0.047372   \n",
       "Hits     0.967939  1.000000  0.562158  0.922187  0.811073  0.641211  0.044767   \n",
       "HmRun    0.592198  0.562158  1.000000  0.650988  0.855122  0.481014  0.116318   \n",
       "Runs     0.913060  0.922187  0.650988  1.000000  0.798206  0.732213  0.004541   \n",
       "RBI      0.820539  0.811073  0.855122  0.798206  1.000000  0.615997  0.146168   \n",
       "Walks    0.669845  0.641211  0.481014  0.732213  0.615997  1.000000  0.136475   \n",
       "Years    0.047372  0.044767  0.116318  0.004541  0.146168  0.136475  1.000000   \n",
       "CAtBat   0.235526  0.227565  0.221882  0.186497  0.294688  0.277175  0.920289   \n",
       "CHits    0.252717  0.255815  0.220627  0.204830  0.308201  0.280671  0.903631   \n",
       "CHmRun   0.236659  0.202712  0.493227  0.227913  0.441771  0.332473  0.726872   \n",
       "CRuns    0.266534  0.261787  0.262361  0.250556  0.323285  0.338478  0.882877   \n",
       "CRBI     0.244053  0.232005  0.351979  0.205976  0.393184  0.308631  0.868812   \n",
       "CWalks   0.166123  0.151818  0.233154  0.182168  0.250914  0.424507  0.838533   \n",
       "PutOuts  0.317550  0.310673  0.282923  0.279347  0.343186  0.299515 -0.004684   \n",
       "Assists  0.353824  0.320455 -0.106329  0.220567  0.106591  0.149656 -0.080638   \n",
       "Errors   0.352117  0.310038  0.039318  0.240475  0.193370  0.129382 -0.162140   \n",
       "Salary   0.394771  0.438675  0.343028  0.419859  0.449457  0.443867  0.400657   \n",
       "\n",
       "           CAtBat     CHits    CHmRun     CRuns      CRBI    CWalks   PutOuts  \\\n",
       "AtBat    0.235526  0.252717  0.236659  0.266534  0.244053  0.166123  0.317550   \n",
       "Hits     0.227565  0.255815  0.202712  0.261787  0.232005  0.151818  0.310673   \n",
       "HmRun    0.221882  0.220627  0.493227  0.262361  0.351979  0.233154  0.282923   \n",
       "Runs     0.186497  0.204830  0.227913  0.250556  0.205976  0.182168  0.279347   \n",
       "RBI      0.294688  0.308201  0.441771  0.323285  0.393184  0.250914  0.343186   \n",
       "Walks    0.277175  0.280671  0.332473  0.338478  0.308631  0.424507  0.299515   \n",
       "Years    0.920289  0.903631  0.726872  0.882877  0.868812  0.838533 -0.004684   \n",
       "CAtBat   1.000000  0.995063  0.798836  0.983345  0.949219  0.906501  0.062283   \n",
       "CHits    0.995063  1.000000  0.783306  0.984609  0.945141  0.890954  0.076547   \n",
       "CHmRun   0.798836  0.783306  1.000000  0.820243  0.929484  0.799983  0.112724   \n",
       "CRuns    0.983345  0.984609  0.820243  1.000000  0.943769  0.927807  0.064180   \n",
       "CRBI     0.949219  0.945141  0.929484  0.943769  1.000000  0.884726  0.110098   \n",
       "CWalks   0.906501  0.890954  0.799983  0.927807  0.884726  1.000000  0.058638   \n",
       "PutOuts  0.062283  0.076547  0.112724  0.064180  0.110098  0.058638  1.000000   \n",
       "Assists  0.002038 -0.002523 -0.158511 -0.022978 -0.079387 -0.039130 -0.025024   \n",
       "Errors  -0.066922 -0.062756 -0.138115 -0.084395 -0.100990 -0.118475  0.109972   \n",
       "Salary   0.526135  0.548910  0.524931  0.562678  0.566966  0.489822  0.300480   \n",
       "\n",
       "          Assists    Errors    Salary  \n",
       "AtBat    0.353824  0.352117  0.394771  \n",
       "Hits     0.320455  0.310038  0.438675  \n",
       "HmRun   -0.106329  0.039318  0.343028  \n",
       "Runs     0.220567  0.240475  0.419859  \n",
       "RBI      0.106591  0.193370  0.449457  \n",
       "Walks    0.149656  0.129382  0.443867  \n",
       "Years   -0.080638 -0.162140  0.400657  \n",
       "CAtBat   0.002038 -0.066922  0.526135  \n",
       "CHits   -0.002523 -0.062756  0.548910  \n",
       "CHmRun  -0.158511 -0.138115  0.524931  \n",
       "CRuns   -0.022978 -0.084395  0.562678  \n",
       "CRBI    -0.079387 -0.100990  0.566966  \n",
       "CWalks  -0.039130 -0.118475  0.489822  \n",
       "PutOuts -0.025024  0.109972  0.300480  \n",
       "Assists  1.000000  0.706362  0.025436  \n",
       "Errors   0.706362  1.000000 -0.005401  \n",
       "Salary   0.025436 -0.005401  1.000000  "
      ]
     },
     "execution_count": 9,
     "metadata": {},
     "output_type": "execute_result"
    }
   ],
   "source": [
    "df.corr()"
   ]
  },
  {
   "cell_type": "code",
   "execution_count": 10,
   "metadata": {},
   "outputs": [],
   "source": [
    "#veri on isleme\n",
    "df = df.dropna()\n",
    "dms = pd.get_dummies(df[['League', 'Division', 'NewLeague']])\n",
    "y = df[\"Salary\"]\n",
    "X_ = df.drop(['Salary', 'League', 'Division', 'NewLeague'], axis=1).astype('float64')\n",
    "X = pd.concat([X_, dms[['League_N', 'Division_W', 'NewLeague_N']]], axis=1)"
   ]
  },
  {
   "cell_type": "code",
   "execution_count": 11,
   "metadata": {},
   "outputs": [],
   "source": [
    "X_train, X_test, y_train, y_test = train_test_split(X, y,\n",
    "                                                    test_size=0.20, \n",
    "                                                    random_state=46)"
   ]
  },
  {
   "cell_type": "code",
   "execution_count": null,
   "metadata": {},
   "outputs": [],
   "source": []
  },
  {
   "cell_type": "markdown",
   "metadata": {},
   "source": [
    "**KNN**"
   ]
  },
  {
   "cell_type": "code",
   "execution_count": 648,
   "metadata": {},
   "outputs": [],
   "source": [
    "knn_model = KNeighborsRegressor().fit(X_train, y_train)"
   ]
  },
  {
   "cell_type": "code",
   "execution_count": 649,
   "metadata": {},
   "outputs": [
    {
     "data": {
      "text/plain": [
       "5"
      ]
     },
     "execution_count": 649,
     "metadata": {},
     "output_type": "execute_result"
    }
   ],
   "source": [
    "knn_model.n_neighbors"
   ]
  },
  {
   "cell_type": "code",
   "execution_count": 650,
   "metadata": {},
   "outputs": [],
   "source": [
    "y_pred = knn_model.predict(X_test)"
   ]
  },
  {
   "cell_type": "code",
   "execution_count": 651,
   "metadata": {},
   "outputs": [
    {
     "data": {
      "text/plain": [
       "438.75715389787524"
      ]
     },
     "execution_count": 651,
     "metadata": {},
     "output_type": "execute_result"
    }
   ],
   "source": [
    "np.sqrt(mean_squared_error(y_test, y_pred))"
   ]
  },
  {
   "cell_type": "code",
   "execution_count": null,
   "metadata": {},
   "outputs": [],
   "source": [
    "#Tuned "
   ]
  },
  {
   "cell_type": "code",
   "execution_count": 652,
   "metadata": {},
   "outputs": [],
   "source": [
    "#knn_params = {'n_neighbors': np.arange(1,30,1)}"
   ]
  },
  {
   "cell_type": "code",
   "execution_count": 685,
   "metadata": {},
   "outputs": [],
   "source": [
    "#knn = KNeighborsRegressor()"
   ]
  },
  {
   "cell_type": "code",
   "execution_count": 728,
   "metadata": {},
   "outputs": [],
   "source": [
    "#knn_cv_model = GridSearchCV(knn, knn_params, cv = 10).fit(X_train,y_train)"
   ]
  },
  {
   "cell_type": "code",
   "execution_count": 735,
   "metadata": {},
   "outputs": [],
   "source": [
    "#knn_cv_model.best_params_['n_neighbors']"
   ]
  },
  {
   "cell_type": "code",
   "execution_count": 737,
   "metadata": {},
   "outputs": [],
   "source": [
    "knn_tuned = KNeighborsRegressor(n_neighbors=knn_cv_model.best_params_[\"n_neighbors\"]).fit(X_train, y_train )\n",
    "#knn_tuned = KNeighborsRegressor(**knn_cv_model.best_params_).fit(X_train, y_train)"
   ]
  },
  {
   "cell_type": "code",
   "execution_count": 738,
   "metadata": {},
   "outputs": [
    {
     "data": {
      "text/plain": [
       "505.0045840305597"
      ]
     },
     "execution_count": 738,
     "metadata": {},
     "output_type": "execute_result"
    }
   ],
   "source": [
    "y_pred = knn_tuned.predict(X_test)\n",
    "knn_final = np.sqrt(mean_squared_error(y_test, y_pred))\n",
    "knn_final"
   ]
  },
  {
   "cell_type": "markdown",
   "metadata": {},
   "source": [
    "**SVR**"
   ]
  },
  {
   "cell_type": "code",
   "execution_count": 739,
   "metadata": {},
   "outputs": [],
   "source": [
    "svr_model = SVR().fit(X_train, y_train)"
   ]
  },
  {
   "cell_type": "code",
   "execution_count": 740,
   "metadata": {},
   "outputs": [
    {
     "data": {
      "text/plain": [
       "507.4829849939738"
      ]
     },
     "execution_count": 740,
     "metadata": {},
     "output_type": "execute_result"
    }
   ],
   "source": [
    "y_pred = svr_model.predict(X_test)\n",
    "svr_base = np.sqrt(mean_squared_error(y_test, y_pred))\n",
    "svr_base"
   ]
  },
  {
   "cell_type": "code",
   "execution_count": 680,
   "metadata": {},
   "outputs": [
    {
     "data": {
      "text/plain": [
       "505.22319072462665"
      ]
     },
     "execution_count": 680,
     "metadata": {},
     "output_type": "execute_result"
    }
   ],
   "source": [
    "y_pred = svr_model.predict(X_test)\n",
    "svr_base = np.sqrt(mean_squared_error(y_test, y_pred))\n",
    "svr_base"
   ]
  },
  {
   "cell_type": "code",
   "execution_count": 682,
   "metadata": {},
   "outputs": [
    {
     "name": "stdout",
     "output_type": "stream",
     "text": [
      "Fitting 10 folds for each of 12 candidates, totalling 120 fits\n"
     ]
    },
    {
     "name": "stderr",
     "output_type": "stream",
     "text": [
      "[Parallel(n_jobs=-1)]: Using backend LokyBackend with 4 concurrent workers.\n",
      "[Parallel(n_jobs=-1)]: Done  38 tasks      | elapsed:    2.5s\n",
      "[Parallel(n_jobs=-1)]: Done 120 out of 120 | elapsed:    3.0s finished\n"
     ]
    }
   ],
   "source": [
    "# Hiperparametre setleri hazırlanarak denenmesi işlemi gerçekleştirilmiştir.\n",
    "svr_model = SVR() \n",
    "\n",
    "svr_params = {\"C\": [0.01,0.001, 0.2, 0.1,0.5,0.8,0.9,1, 10, 100, 500,1000]}\n",
    "\n",
    "svr_cv_model = GridSearchCV(svr_model, svr_params, cv = 10, n_jobs = -1, verbose =  2).fit(X_train, y_train)"
   ]
  },
  {
   "cell_type": "code",
   "execution_count": 683,
   "metadata": {},
   "outputs": [
    {
     "data": {
      "text/plain": [
       "{'C': 1000}"
      ]
     },
     "execution_count": 683,
     "metadata": {},
     "output_type": "execute_result"
    }
   ],
   "source": [
    "# En iyi hiperparametreler belirlenilmiştir.\n",
    "svr_cv_model.best_params_"
   ]
  },
  {
   "cell_type": "code",
   "execution_count": 688,
   "metadata": {},
   "outputs": [],
   "source": [
    "svr_tuned = SVR(**svr_cv_model.best_params_).fit(X_train, y_train)"
   ]
  },
  {
   "cell_type": "code",
   "execution_count": 689,
   "metadata": {},
   "outputs": [
    {
     "data": {
      "text/plain": [
       "SVR(C=1000, cache_size=200, coef0=0.0, degree=3, epsilon=0.1, gamma='scale',\n",
       "    kernel='rbf', max_iter=-1, shrinking=True, tol=0.001, verbose=False)"
      ]
     },
     "execution_count": 689,
     "metadata": {},
     "output_type": "execute_result"
    }
   ],
   "source": [
    "svr_tuned"
   ]
  },
  {
   "cell_type": "code",
   "execution_count": 690,
   "metadata": {},
   "outputs": [
    {
     "data": {
      "text/plain": [
       "434.90979834824327"
      ]
     },
     "execution_count": 690,
     "metadata": {},
     "output_type": "execute_result"
    }
   ],
   "source": [
    "y_pred = svr_tuned.predict(X_test)\n",
    "svr_final = np.sqrt(mean_squared_error(y_test, y_pred))\n",
    "svr_final"
   ]
  },
  {
   "cell_type": "code",
   "execution_count": null,
   "metadata": {},
   "outputs": [],
   "source": []
  },
  {
   "cell_type": "markdown",
   "metadata": {},
   "source": [
    "**CART**"
   ]
  },
  {
   "cell_type": "code",
   "execution_count": 741,
   "metadata": {},
   "outputs": [],
   "source": [
    "X_train = pd.DataFrame(X_train[\"Hits\"])\n",
    "X_test = pd.DataFrame(X_test[\"Hits\"])"
   ]
  },
  {
   "cell_type": "code",
   "execution_count": 742,
   "metadata": {},
   "outputs": [],
   "source": [
    "cart_model = DecisionTreeRegressor(min_samples_split = 2)"
   ]
  },
  {
   "cell_type": "code",
   "execution_count": 743,
   "metadata": {},
   "outputs": [
    {
     "data": {
      "text/plain": [
       "DecisionTreeRegressor(ccp_alpha=0.0, criterion='mse', max_depth=None,\n",
       "                      max_features=None, max_leaf_nodes=None,\n",
       "                      min_impurity_decrease=0.0, min_impurity_split=None,\n",
       "                      min_samples_leaf=1, min_samples_split=2,\n",
       "                      min_weight_fraction_leaf=0.0, presort='deprecated',\n",
       "                      random_state=None, splitter='best')"
      ]
     },
     "execution_count": 743,
     "metadata": {},
     "output_type": "execute_result"
    }
   ],
   "source": [
    "cart_model.fit(X_train, y_train)"
   ]
  },
  {
   "cell_type": "code",
   "execution_count": 744,
   "metadata": {},
   "outputs": [],
   "source": [
    "cart_model = DecisionTreeRegressor(random_state = 52)"
   ]
  },
  {
   "cell_type": "code",
   "execution_count": 745,
   "metadata": {},
   "outputs": [],
   "source": [
    "# Hiperparametre seti ayarlanmıştır.\n",
    "cart_params = {\"max_depth\": [2,3,4,5,10,20,100, 1000],\n",
    "              \"min_samples_split\": [2,10,5,30,50,10]}"
   ]
  },
  {
   "cell_type": "code",
   "execution_count": 746,
   "metadata": {},
   "outputs": [
    {
     "name": "stdout",
     "output_type": "stream",
     "text": [
      "Fitting 10 folds for each of 48 candidates, totalling 480 fits\n"
     ]
    },
    {
     "name": "stderr",
     "output_type": "stream",
     "text": [
      "[Parallel(n_jobs=-1)]: Using backend LokyBackend with 4 concurrent workers.\n",
      "[Parallel(n_jobs=-1)]: Done  34 tasks      | elapsed:    3.3s\n",
      "[Parallel(n_jobs=-1)]: Done 480 out of 480 | elapsed:    4.8s finished\n"
     ]
    }
   ],
   "source": [
    "cart_cv_model = GridSearchCV(cart_model, cart_params, cv = 10, n_jobs = -1, verbose =  2).fit(X_train, y_train)"
   ]
  },
  {
   "cell_type": "code",
   "execution_count": 747,
   "metadata": {},
   "outputs": [
    {
     "data": {
      "text/plain": [
       "{'max_depth': 3, 'min_samples_split': 50}"
      ]
     },
     "execution_count": 747,
     "metadata": {},
     "output_type": "execute_result"
    }
   ],
   "source": [
    "# En iyi parametreler belirlenilmiştir.\n",
    "cart_cv_model.best_params_"
   ]
  },
  {
   "cell_type": "code",
   "execution_count": 748,
   "metadata": {},
   "outputs": [],
   "source": [
    "cart_tuned = DecisionTreeRegressor(**cart_cv_model.best_params_).fit(X_train, y_train)"
   ]
  },
  {
   "cell_type": "code",
   "execution_count": 749,
   "metadata": {},
   "outputs": [
    {
     "data": {
      "text/plain": [
       "508.1723805416302"
      ]
     },
     "execution_count": 749,
     "metadata": {},
     "output_type": "execute_result"
    }
   ],
   "source": [
    "y_pred = cart_tuned.predict(X_test)\n",
    "cart_final = np.sqrt(mean_squared_error(y_test, y_pred))\n",
    "cart_final"
   ]
  },
  {
   "cell_type": "markdown",
   "metadata": {},
   "source": [
    "**RANDOM FORESTS**"
   ]
  },
  {
   "cell_type": "code",
   "execution_count": 750,
   "metadata": {},
   "outputs": [],
   "source": [
    "rf_model = RandomForestRegressor(random_state = 42).fit(X_train, y_train)"
   ]
  },
  {
   "cell_type": "code",
   "execution_count": 768,
   "metadata": {},
   "outputs": [
    {
     "data": {
      "text/plain": [
       "558.8512199716419"
      ]
     },
     "execution_count": 768,
     "metadata": {},
     "output_type": "execute_result"
    }
   ],
   "source": [
    "#Test hatasi\n",
    "y_pred = rf_model.predict(X_test)\n",
    "rf_base = np.sqrt(mean_squared_error(y_test, y_pred))\n",
    "rf_base"
   ]
  },
  {
   "cell_type": "code",
   "execution_count": 754,
   "metadata": {},
   "outputs": [],
   "source": [
    "# Hiperparametre seti ayarlanması\n",
    "rf_params = {'max_depth': list(range(1,10)),\n",
    "            'max_features': [3,5,10,15],\n",
    "            'n_estimators' : [100, 200, 500, 1000, 2000]}"
   ]
  },
  {
   "cell_type": "code",
   "execution_count": 769,
   "metadata": {},
   "outputs": [],
   "source": [
    "rf_cv_model = GridSearchCV(rf_model, rf_params, cv = 10, n_jobs = -1, verbose = 2)"
   ]
  },
  {
   "cell_type": "code",
   "execution_count": null,
   "metadata": {},
   "outputs": [],
   "source": [
    "rf_cv_model.best_params_"
   ]
  },
  {
   "cell_type": "code",
   "execution_count": null,
   "metadata": {},
   "outputs": [],
   "source": [
    "#final kurulum\n",
    "rf_tuned = RandomForestRegressor(**rf_cv_model.best_params_).fit(X_train, y_train)"
   ]
  },
  {
   "cell_type": "code",
   "execution_count": null,
   "metadata": {},
   "outputs": [],
   "source": [
    "y_pred = rf_tuned.predict(X_test)\n",
    "rf_final = np.sqrt(mean_squared_error(y_test, y_pred))\n",
    "rf_final"
   ]
  },
  {
   "cell_type": "markdown",
   "metadata": {},
   "source": [
    "**GBM**"
   ]
  },
  {
   "cell_type": "code",
   "execution_count": 764,
   "metadata": {},
   "outputs": [],
   "source": [
    "gbm_model = GradientBoostingRegressor().fit(X_train, y_train)"
   ]
  },
  {
   "cell_type": "code",
   "execution_count": 765,
   "metadata": {},
   "outputs": [
    {
     "data": {
      "text/plain": [
       "524.5809091706994"
      ]
     },
     "execution_count": 765,
     "metadata": {},
     "output_type": "execute_result"
    }
   ],
   "source": [
    "y_pred = gbm_model.predict(X_test)\n",
    "gbm_base = np.sqrt(mean_squared_error(y_test, y_pred))\n",
    "gbm_base"
   ]
  },
  {
   "cell_type": "code",
   "execution_count": 766,
   "metadata": {},
   "outputs": [],
   "source": [
    "# Hiperparametre setinin belirlenmesi\n",
    "gbm_params = {\"learning_rate\": [0.001,0.1,0.01, 0.05],\n",
    "             \"max_depth\": [3,5,8,9,10],\n",
    "             \"n_estimators\": [200,500,1000,1500],\n",
    "             \"subsample\": [1,0.4,0.5,0.7],\n",
    "             \"loss\": [\"ls\",\"lad\",\"quantile\"]}"
   ]
  },
  {
   "cell_type": "code",
   "execution_count": 761,
   "metadata": {},
   "outputs": [],
   "source": [
    "gbm_model = GradientBoostingRegressor().fit(X_train, y_train)"
   ]
  },
  {
   "cell_type": "code",
   "execution_count": 763,
   "metadata": {},
   "outputs": [
    {
     "name": "stdout",
     "output_type": "stream",
     "text": [
      "Fitting 10 folds for each of 960 candidates, totalling 9600 fits\n"
     ]
    },
    {
     "name": "stderr",
     "output_type": "stream",
     "text": [
      "[Parallel(n_jobs=-1)]: Using backend LokyBackend with 4 concurrent workers.\n",
      "[Parallel(n_jobs=-1)]: Done  33 tasks      | elapsed:    3.6s\n",
      "[Parallel(n_jobs=-1)]: Done 154 tasks      | elapsed:   31.4s\n",
      "[Parallel(n_jobs=-1)]: Done 357 tasks      | elapsed:  1.2min\n",
      "[Parallel(n_jobs=-1)]: Done 640 tasks      | elapsed:  2.4min\n",
      "[Parallel(n_jobs=-1)]: Done 1005 tasks      | elapsed:  6.0min\n"
     ]
    },
    {
     "ename": "KeyboardInterrupt",
     "evalue": "",
     "output_type": "error",
     "traceback": [
      "\u001b[0;31m---------------------------------------------------------------------------\u001b[0m",
      "\u001b[0;31mKeyboardInterrupt\u001b[0m                         Traceback (most recent call last)",
      "\u001b[0;32m<ipython-input-763-5562c78a5713>\u001b[0m in \u001b[0;36m<module>\u001b[0;34m\u001b[0m\n\u001b[1;32m      3\u001b[0m                             \u001b[0mcv\u001b[0m \u001b[0;34m=\u001b[0m \u001b[0;36m10\u001b[0m\u001b[0;34m,\u001b[0m\u001b[0;34m\u001b[0m\u001b[0;34m\u001b[0m\u001b[0m\n\u001b[1;32m      4\u001b[0m                             \u001b[0mn_jobs\u001b[0m\u001b[0;34m=\u001b[0m\u001b[0;34m-\u001b[0m\u001b[0;36m1\u001b[0m\u001b[0;34m,\u001b[0m\u001b[0;34m\u001b[0m\u001b[0;34m\u001b[0m\u001b[0m\n\u001b[0;32m----> 5\u001b[0;31m                             verbose = 2).fit(X_train, y_train)\n\u001b[0m",
      "\u001b[0;32m/opt/anaconda3/lib/python3.7/site-packages/sklearn/model_selection/_search.py\u001b[0m in \u001b[0;36mfit\u001b[0;34m(self, X, y, groups, **fit_params)\u001b[0m\n\u001b[1;32m    708\u001b[0m                 out = parallel(delayed(_fit_and_score)(clone(base_estimator),\n\u001b[1;32m    709\u001b[0m                                                        \u001b[0mX\u001b[0m\u001b[0;34m,\u001b[0m \u001b[0my\u001b[0m\u001b[0;34m,\u001b[0m\u001b[0;34m\u001b[0m\u001b[0;34m\u001b[0m\u001b[0m\n\u001b[0;32m--> 710\u001b[0;31m                                                        \u001b[0mtrain\u001b[0m\u001b[0;34m=\u001b[0m\u001b[0mtrain\u001b[0m\u001b[0;34m,\u001b[0m \u001b[0mtest\u001b[0m\u001b[0;34m=\u001b[0m\u001b[0mtest\u001b[0m\u001b[0;34m,\u001b[0m\u001b[0;34m\u001b[0m\u001b[0;34m\u001b[0m\u001b[0m\n\u001b[0m\u001b[1;32m    711\u001b[0m                                                        \u001b[0mparameters\u001b[0m\u001b[0;34m=\u001b[0m\u001b[0mparameters\u001b[0m\u001b[0;34m,\u001b[0m\u001b[0;34m\u001b[0m\u001b[0;34m\u001b[0m\u001b[0m\n\u001b[1;32m    712\u001b[0m                                                        **fit_and_score_kwargs)\n",
      "\u001b[0;32m/opt/anaconda3/lib/python3.7/site-packages/sklearn/model_selection/_search.py\u001b[0m in \u001b[0;36m_run_search\u001b[0;34m(self, evaluate_candidates)\u001b[0m\n\u001b[1;32m   1149\u001b[0m     \u001b[0mIf\u001b[0m\u001b[0;31m \u001b[0m\u001b[0;31m`\u001b[0m\u001b[0mn_jobs\u001b[0m\u001b[0;31m`\u001b[0m \u001b[0mwas\u001b[0m \u001b[0mset\u001b[0m \u001b[0mto\u001b[0m \u001b[0ma\u001b[0m \u001b[0mvalue\u001b[0m \u001b[0mhigher\u001b[0m \u001b[0mthan\u001b[0m \u001b[0mone\u001b[0m\u001b[0;34m,\u001b[0m \u001b[0mthe\u001b[0m \u001b[0mdata\u001b[0m \u001b[0;32mis\u001b[0m \u001b[0mcopied\u001b[0m \u001b[0;32mfor\u001b[0m \u001b[0meach\u001b[0m\u001b[0;34m\u001b[0m\u001b[0;34m\u001b[0m\u001b[0m\n\u001b[1;32m   1150\u001b[0m     \u001b[0mpoint\u001b[0m \u001b[0;32min\u001b[0m \u001b[0mthe\u001b[0m \u001b[0mgrid\u001b[0m \u001b[0;34m(\u001b[0m\u001b[0;32mand\u001b[0m \u001b[0;32mnot\u001b[0m\u001b[0;31m \u001b[0m\u001b[0;31m`\u001b[0m\u001b[0mn_jobs\u001b[0m\u001b[0;31m`\u001b[0m \u001b[0mtimes\u001b[0m\u001b[0;34m)\u001b[0m\u001b[0;34m.\u001b[0m \u001b[0mThis\u001b[0m \u001b[0;32mis\u001b[0m \u001b[0mdone\u001b[0m \u001b[0;32mfor\u001b[0m \u001b[0mefficiency\u001b[0m\u001b[0;34m\u001b[0m\u001b[0;34m\u001b[0m\u001b[0m\n\u001b[0;32m-> 1151\u001b[0;31m     \u001b[0mreasons\u001b[0m \u001b[0;32mif\u001b[0m \u001b[0mindividual\u001b[0m \u001b[0mjobs\u001b[0m \u001b[0mtake\u001b[0m \u001b[0mvery\u001b[0m \u001b[0mlittle\u001b[0m \u001b[0mtime\u001b[0m\u001b[0;34m,\u001b[0m \u001b[0mbut\u001b[0m \u001b[0mmay\u001b[0m \u001b[0;32mraise\u001b[0m \u001b[0merrors\u001b[0m \u001b[0;32mif\u001b[0m\u001b[0;34m\u001b[0m\u001b[0;34m\u001b[0m\u001b[0m\n\u001b[0m\u001b[1;32m   1152\u001b[0m     \u001b[0mthe\u001b[0m \u001b[0mdataset\u001b[0m \u001b[0;32mis\u001b[0m \u001b[0mlarge\u001b[0m \u001b[0;32mand\u001b[0m \u001b[0;32mnot\u001b[0m \u001b[0menough\u001b[0m \u001b[0mmemory\u001b[0m \u001b[0;32mis\u001b[0m \u001b[0mavailable\u001b[0m\u001b[0;34m.\u001b[0m  \u001b[0mA\u001b[0m \u001b[0mworkaround\u001b[0m \u001b[0;32min\u001b[0m\u001b[0;34m\u001b[0m\u001b[0;34m\u001b[0m\u001b[0m\n\u001b[1;32m   1153\u001b[0m     \u001b[0mthis\u001b[0m \u001b[0mcase\u001b[0m \u001b[0;32mis\u001b[0m \u001b[0mto\u001b[0m \u001b[0mset\u001b[0m\u001b[0;31m \u001b[0m\u001b[0;31m`\u001b[0m\u001b[0mpre_dispatch\u001b[0m\u001b[0;31m`\u001b[0m\u001b[0;34m.\u001b[0m \u001b[0mThen\u001b[0m\u001b[0;34m,\u001b[0m \u001b[0mthe\u001b[0m \u001b[0mmemory\u001b[0m \u001b[0;32mis\u001b[0m \u001b[0mcopied\u001b[0m \u001b[0monly\u001b[0m\u001b[0;34m\u001b[0m\u001b[0;34m\u001b[0m\u001b[0m\n",
      "\u001b[0;32m/opt/anaconda3/lib/python3.7/site-packages/sklearn/model_selection/_search.py\u001b[0m in \u001b[0;36mevaluate_candidates\u001b[0;34m(candidate_params)\u001b[0m\n\u001b[1;32m    687\u001b[0m                                     \u001b[0mfit_params\u001b[0m\u001b[0;34m=\u001b[0m\u001b[0mfit_params\u001b[0m\u001b[0;34m,\u001b[0m\u001b[0;34m\u001b[0m\u001b[0;34m\u001b[0m\u001b[0m\n\u001b[1;32m    688\u001b[0m                                     \u001b[0mreturn_train_score\u001b[0m\u001b[0;34m=\u001b[0m\u001b[0mself\u001b[0m\u001b[0;34m.\u001b[0m\u001b[0mreturn_train_score\u001b[0m\u001b[0;34m,\u001b[0m\u001b[0;34m\u001b[0m\u001b[0;34m\u001b[0m\u001b[0m\n\u001b[0;32m--> 689\u001b[0;31m                                     \u001b[0mreturn_n_test_samples\u001b[0m\u001b[0;34m=\u001b[0m\u001b[0;32mTrue\u001b[0m\u001b[0;34m,\u001b[0m\u001b[0;34m\u001b[0m\u001b[0;34m\u001b[0m\u001b[0m\n\u001b[0m\u001b[1;32m    690\u001b[0m                                     \u001b[0mreturn_times\u001b[0m\u001b[0;34m=\u001b[0m\u001b[0;32mTrue\u001b[0m\u001b[0;34m,\u001b[0m\u001b[0;34m\u001b[0m\u001b[0;34m\u001b[0m\u001b[0m\n\u001b[1;32m    691\u001b[0m                                     \u001b[0mreturn_parameters\u001b[0m\u001b[0;34m=\u001b[0m\u001b[0;32mFalse\u001b[0m\u001b[0;34m,\u001b[0m\u001b[0;34m\u001b[0m\u001b[0;34m\u001b[0m\u001b[0m\n",
      "\u001b[0;32m/opt/anaconda3/lib/python3.7/site-packages/joblib/parallel.py\u001b[0m in \u001b[0;36m__call__\u001b[0;34m(self, iterable)\u001b[0m\n\u001b[1;32m   1015\u001b[0m \u001b[0;34m\u001b[0m\u001b[0m\n\u001b[1;32m   1016\u001b[0m             \u001b[0;32mwith\u001b[0m \u001b[0mself\u001b[0m\u001b[0;34m.\u001b[0m\u001b[0m_backend\u001b[0m\u001b[0;34m.\u001b[0m\u001b[0mretrieval_context\u001b[0m\u001b[0;34m(\u001b[0m\u001b[0;34m)\u001b[0m\u001b[0;34m:\u001b[0m\u001b[0;34m\u001b[0m\u001b[0;34m\u001b[0m\u001b[0m\n\u001b[0;32m-> 1017\u001b[0;31m                 \u001b[0mself\u001b[0m\u001b[0;34m.\u001b[0m\u001b[0mretrieve\u001b[0m\u001b[0;34m(\u001b[0m\u001b[0;34m)\u001b[0m\u001b[0;34m\u001b[0m\u001b[0;34m\u001b[0m\u001b[0m\n\u001b[0m\u001b[1;32m   1018\u001b[0m             \u001b[0;31m# Make sure that we get a last message telling us we are done\u001b[0m\u001b[0;34m\u001b[0m\u001b[0;34m\u001b[0m\u001b[0;34m\u001b[0m\u001b[0m\n\u001b[1;32m   1019\u001b[0m             \u001b[0melapsed_time\u001b[0m \u001b[0;34m=\u001b[0m \u001b[0mtime\u001b[0m\u001b[0;34m.\u001b[0m\u001b[0mtime\u001b[0m\u001b[0;34m(\u001b[0m\u001b[0;34m)\u001b[0m \u001b[0;34m-\u001b[0m \u001b[0mself\u001b[0m\u001b[0;34m.\u001b[0m\u001b[0m_start_time\u001b[0m\u001b[0;34m\u001b[0m\u001b[0;34m\u001b[0m\u001b[0m\n",
      "\u001b[0;32m/opt/anaconda3/lib/python3.7/site-packages/joblib/parallel.py\u001b[0m in \u001b[0;36mretrieve\u001b[0;34m(self)\u001b[0m\n\u001b[1;32m    907\u001b[0m             \u001b[0;32mtry\u001b[0m\u001b[0;34m:\u001b[0m\u001b[0;34m\u001b[0m\u001b[0;34m\u001b[0m\u001b[0m\n\u001b[1;32m    908\u001b[0m                 \u001b[0;32mif\u001b[0m \u001b[0mgetattr\u001b[0m\u001b[0;34m(\u001b[0m\u001b[0mself\u001b[0m\u001b[0;34m.\u001b[0m\u001b[0m_backend\u001b[0m\u001b[0;34m,\u001b[0m \u001b[0;34m'supports_timeout'\u001b[0m\u001b[0;34m,\u001b[0m \u001b[0;32mFalse\u001b[0m\u001b[0;34m)\u001b[0m\u001b[0;34m:\u001b[0m\u001b[0;34m\u001b[0m\u001b[0;34m\u001b[0m\u001b[0m\n\u001b[0;32m--> 909\u001b[0;31m                     \u001b[0mself\u001b[0m\u001b[0;34m.\u001b[0m\u001b[0m_output\u001b[0m\u001b[0;34m.\u001b[0m\u001b[0mextend\u001b[0m\u001b[0;34m(\u001b[0m\u001b[0mjob\u001b[0m\u001b[0;34m.\u001b[0m\u001b[0mget\u001b[0m\u001b[0;34m(\u001b[0m\u001b[0mtimeout\u001b[0m\u001b[0;34m=\u001b[0m\u001b[0mself\u001b[0m\u001b[0;34m.\u001b[0m\u001b[0mtimeout\u001b[0m\u001b[0;34m)\u001b[0m\u001b[0;34m)\u001b[0m\u001b[0;34m\u001b[0m\u001b[0;34m\u001b[0m\u001b[0m\n\u001b[0m\u001b[1;32m    910\u001b[0m                 \u001b[0;32melse\u001b[0m\u001b[0;34m:\u001b[0m\u001b[0;34m\u001b[0m\u001b[0;34m\u001b[0m\u001b[0m\n\u001b[1;32m    911\u001b[0m                     \u001b[0mself\u001b[0m\u001b[0;34m.\u001b[0m\u001b[0m_output\u001b[0m\u001b[0;34m.\u001b[0m\u001b[0mextend\u001b[0m\u001b[0;34m(\u001b[0m\u001b[0mjob\u001b[0m\u001b[0;34m.\u001b[0m\u001b[0mget\u001b[0m\u001b[0;34m(\u001b[0m\u001b[0;34m)\u001b[0m\u001b[0;34m)\u001b[0m\u001b[0;34m\u001b[0m\u001b[0;34m\u001b[0m\u001b[0m\n",
      "\u001b[0;32m/opt/anaconda3/lib/python3.7/site-packages/joblib/_parallel_backends.py\u001b[0m in \u001b[0;36mwrap_future_result\u001b[0;34m(future, timeout)\u001b[0m\n\u001b[1;32m    560\u001b[0m         AsyncResults.get from multiprocessing.\"\"\"\n\u001b[1;32m    561\u001b[0m         \u001b[0;32mtry\u001b[0m\u001b[0;34m:\u001b[0m\u001b[0;34m\u001b[0m\u001b[0;34m\u001b[0m\u001b[0m\n\u001b[0;32m--> 562\u001b[0;31m             \u001b[0;32mreturn\u001b[0m \u001b[0mfuture\u001b[0m\u001b[0;34m.\u001b[0m\u001b[0mresult\u001b[0m\u001b[0;34m(\u001b[0m\u001b[0mtimeout\u001b[0m\u001b[0;34m=\u001b[0m\u001b[0mtimeout\u001b[0m\u001b[0;34m)\u001b[0m\u001b[0;34m\u001b[0m\u001b[0;34m\u001b[0m\u001b[0m\n\u001b[0m\u001b[1;32m    563\u001b[0m         \u001b[0;32mexcept\u001b[0m \u001b[0mLokyTimeoutError\u001b[0m\u001b[0;34m:\u001b[0m\u001b[0;34m\u001b[0m\u001b[0;34m\u001b[0m\u001b[0m\n\u001b[1;32m    564\u001b[0m             \u001b[0;32mraise\u001b[0m \u001b[0mTimeoutError\u001b[0m\u001b[0;34m(\u001b[0m\u001b[0;34m)\u001b[0m\u001b[0;34m\u001b[0m\u001b[0;34m\u001b[0m\u001b[0m\n",
      "\u001b[0;32m/opt/anaconda3/lib/python3.7/concurrent/futures/_base.py\u001b[0m in \u001b[0;36mresult\u001b[0;34m(self, timeout)\u001b[0m\n\u001b[1;32m    428\u001b[0m                 \u001b[0;32mreturn\u001b[0m \u001b[0mself\u001b[0m\u001b[0;34m.\u001b[0m\u001b[0m__get_result\u001b[0m\u001b[0;34m(\u001b[0m\u001b[0;34m)\u001b[0m\u001b[0;34m\u001b[0m\u001b[0;34m\u001b[0m\u001b[0m\n\u001b[1;32m    429\u001b[0m \u001b[0;34m\u001b[0m\u001b[0m\n\u001b[0;32m--> 430\u001b[0;31m             \u001b[0mself\u001b[0m\u001b[0;34m.\u001b[0m\u001b[0m_condition\u001b[0m\u001b[0;34m.\u001b[0m\u001b[0mwait\u001b[0m\u001b[0;34m(\u001b[0m\u001b[0mtimeout\u001b[0m\u001b[0;34m)\u001b[0m\u001b[0;34m\u001b[0m\u001b[0;34m\u001b[0m\u001b[0m\n\u001b[0m\u001b[1;32m    431\u001b[0m \u001b[0;34m\u001b[0m\u001b[0m\n\u001b[1;32m    432\u001b[0m             \u001b[0;32mif\u001b[0m \u001b[0mself\u001b[0m\u001b[0;34m.\u001b[0m\u001b[0m_state\u001b[0m \u001b[0;32min\u001b[0m \u001b[0;34m[\u001b[0m\u001b[0mCANCELLED\u001b[0m\u001b[0;34m,\u001b[0m \u001b[0mCANCELLED_AND_NOTIFIED\u001b[0m\u001b[0;34m]\u001b[0m\u001b[0;34m:\u001b[0m\u001b[0;34m\u001b[0m\u001b[0;34m\u001b[0m\u001b[0m\n",
      "\u001b[0;32m/opt/anaconda3/lib/python3.7/threading.py\u001b[0m in \u001b[0;36mwait\u001b[0;34m(self, timeout)\u001b[0m\n\u001b[1;32m    294\u001b[0m         \u001b[0;32mtry\u001b[0m\u001b[0;34m:\u001b[0m    \u001b[0;31m# restore state no matter what (e.g., KeyboardInterrupt)\u001b[0m\u001b[0;34m\u001b[0m\u001b[0;34m\u001b[0m\u001b[0m\n\u001b[1;32m    295\u001b[0m             \u001b[0;32mif\u001b[0m \u001b[0mtimeout\u001b[0m \u001b[0;32mis\u001b[0m \u001b[0;32mNone\u001b[0m\u001b[0;34m:\u001b[0m\u001b[0;34m\u001b[0m\u001b[0;34m\u001b[0m\u001b[0m\n\u001b[0;32m--> 296\u001b[0;31m                 \u001b[0mwaiter\u001b[0m\u001b[0;34m.\u001b[0m\u001b[0macquire\u001b[0m\u001b[0;34m(\u001b[0m\u001b[0;34m)\u001b[0m\u001b[0;34m\u001b[0m\u001b[0;34m\u001b[0m\u001b[0m\n\u001b[0m\u001b[1;32m    297\u001b[0m                 \u001b[0mgotit\u001b[0m \u001b[0;34m=\u001b[0m \u001b[0;32mTrue\u001b[0m\u001b[0;34m\u001b[0m\u001b[0;34m\u001b[0m\u001b[0m\n\u001b[1;32m    298\u001b[0m             \u001b[0;32melse\u001b[0m\u001b[0;34m:\u001b[0m\u001b[0;34m\u001b[0m\u001b[0;34m\u001b[0m\u001b[0m\n",
      "\u001b[0;31mKeyboardInterrupt\u001b[0m: "
     ]
    }
   ],
   "source": [
    "gbm_cv_model = GridSearchCV(gbm_model, \n",
    "                            gbm_params, \n",
    "                            cv = 10, \n",
    "                            n_jobs=-1, \n",
    "                            verbose = 2).fit(X_train, y_train)"
   ]
  },
  {
   "cell_type": "code",
   "execution_count": null,
   "metadata": {},
   "outputs": [],
   "source": [
    "gbm_cv_model.best_params_"
   ]
  },
  {
   "cell_type": "code",
   "execution_count": null,
   "metadata": {},
   "outputs": [],
   "source": [
    "gbm_tuned = GradientBoostingRegressor(**gbm_cv_model.best_params_).fit(X_train, y_train)"
   ]
  },
  {
   "cell_type": "code",
   "execution_count": null,
   "metadata": {},
   "outputs": [],
   "source": [
    "y_pred = gbm_tuned.predict(X_test)\n",
    "gbm_final = np.sqrt(mean_squared_error(y_test, y_pred))\n",
    "gbm_final"
   ]
  },
  {
   "cell_type": "code",
   "execution_count": null,
   "metadata": {},
   "outputs": [],
   "source": []
  },
  {
   "cell_type": "code",
   "execution_count": null,
   "metadata": {},
   "outputs": [],
   "source": []
  },
  {
   "cell_type": "code",
   "execution_count": null,
   "metadata": {},
   "outputs": [],
   "source": []
  },
  {
   "cell_type": "code",
   "execution_count": null,
   "metadata": {},
   "outputs": [],
   "source": []
  },
  {
   "cell_type": "code",
   "execution_count": null,
   "metadata": {},
   "outputs": [],
   "source": []
  },
  {
   "cell_type": "code",
   "execution_count": null,
   "metadata": {},
   "outputs": [],
   "source": []
  },
  {
   "cell_type": "code",
   "execution_count": null,
   "metadata": {},
   "outputs": [],
   "source": []
  },
  {
   "cell_type": "code",
   "execution_count": null,
   "metadata": {},
   "outputs": [],
   "source": []
  },
  {
   "cell_type": "code",
   "execution_count": null,
   "metadata": {},
   "outputs": [],
   "source": []
  },
  {
   "cell_type": "markdown",
   "metadata": {},
   "source": [
    "**Light GBM**"
   ]
  },
  {
   "cell_type": "code",
   "execution_count": 12,
   "metadata": {},
   "outputs": [],
   "source": [
    "from lightgbm import LGBMRegressor"
   ]
  },
  {
   "cell_type": "code",
   "execution_count": 13,
   "metadata": {},
   "outputs": [],
   "source": [
    "lgbm = LGBMRegressor()\n",
    "lgbm_model = lgbm.fit(X_train, y_train)"
   ]
  },
  {
   "cell_type": "code",
   "execution_count": 14,
   "metadata": {},
   "outputs": [],
   "source": [
    "#tahmin"
   ]
  },
  {
   "cell_type": "code",
   "execution_count": 15,
   "metadata": {},
   "outputs": [],
   "source": [
    "y_pred = lgbm_model.predict(X_test, \n",
    "                            num_iteration = lgbm_model.best_iteration_)"
   ]
  },
  {
   "cell_type": "code",
   "execution_count": 16,
   "metadata": {},
   "outputs": [
    {
     "data": {
      "text/plain": [
       "387.914002470514"
      ]
     },
     "execution_count": 16,
     "metadata": {},
     "output_type": "execute_result"
    }
   ],
   "source": [
    "np.sqrt(mean_squared_error(y_test, y_pred))"
   ]
  },
  {
   "cell_type": "code",
   "execution_count": null,
   "metadata": {},
   "outputs": [],
   "source": []
  },
  {
   "cell_type": "code",
   "execution_count": null,
   "metadata": {},
   "outputs": [],
   "source": []
  },
  {
   "cell_type": "code",
   "execution_count": null,
   "metadata": {},
   "outputs": [],
   "source": []
  },
  {
   "cell_type": "markdown",
   "metadata": {},
   "source": [
    "**CATBOOST**"
   ]
  },
  {
   "cell_type": "code",
   "execution_count": null,
   "metadata": {},
   "outputs": [],
   "source": [
    "!pip install catboost"
   ]
  },
  {
   "cell_type": "code",
   "execution_count": 17,
   "metadata": {},
   "outputs": [],
   "source": [
    "from catboost import CatBoostRegressor"
   ]
  },
  {
   "cell_type": "code",
   "execution_count": 18,
   "metadata": {
    "collapsed": true,
    "jupyter": {
     "outputs_hidden": true
    }
   },
   "outputs": [
    {
     "name": "stdout",
     "output_type": "stream",
     "text": [
      "Learning rate set to 0.029563\n",
      "0:\tlearn: 427.5208090\ttotal: 67.4ms\tremaining: 1m 7s\n",
      "1:\tlearn: 422.2201754\ttotal: 70.3ms\tremaining: 35.1s\n",
      "2:\tlearn: 416.2330033\ttotal: 73.1ms\tremaining: 24.3s\n",
      "3:\tlearn: 410.0410158\ttotal: 76.1ms\tremaining: 18.9s\n",
      "4:\tlearn: 404.0226836\ttotal: 78.8ms\tremaining: 15.7s\n",
      "5:\tlearn: 399.3462910\ttotal: 81.6ms\tremaining: 13.5s\n",
      "6:\tlearn: 394.3527752\ttotal: 84.5ms\tremaining: 12s\n",
      "7:\tlearn: 388.5335052\ttotal: 87.3ms\tremaining: 10.8s\n",
      "8:\tlearn: 383.2476419\ttotal: 90.2ms\tremaining: 9.93s\n",
      "9:\tlearn: 378.3382577\ttotal: 93ms\tremaining: 9.2s\n",
      "10:\tlearn: 373.3526027\ttotal: 95.9ms\tremaining: 8.62s\n",
      "11:\tlearn: 368.9807497\ttotal: 98.7ms\tremaining: 8.13s\n",
      "12:\tlearn: 363.9065940\ttotal: 102ms\tremaining: 7.71s\n",
      "13:\tlearn: 359.6584620\ttotal: 104ms\tremaining: 7.35s\n",
      "14:\tlearn: 355.3460045\ttotal: 107ms\tremaining: 7.04s\n",
      "15:\tlearn: 351.1766425\ttotal: 110ms\tremaining: 6.76s\n",
      "16:\tlearn: 346.5461369\ttotal: 113ms\tremaining: 6.51s\n",
      "17:\tlearn: 342.3915085\ttotal: 115ms\tremaining: 6.3s\n",
      "18:\tlearn: 338.3663012\ttotal: 118ms\tremaining: 6.12s\n",
      "19:\tlearn: 334.5067929\ttotal: 121ms\tremaining: 5.95s\n",
      "20:\tlearn: 330.6857952\ttotal: 124ms\tremaining: 5.8s\n",
      "21:\tlearn: 326.8227786\ttotal: 127ms\tremaining: 5.66s\n",
      "22:\tlearn: 323.3207303\ttotal: 130ms\tremaining: 5.52s\n",
      "23:\tlearn: 319.7327767\ttotal: 133ms\tremaining: 5.41s\n",
      "24:\tlearn: 316.6209000\ttotal: 136ms\tremaining: 5.3s\n",
      "25:\tlearn: 313.6222177\ttotal: 139ms\tremaining: 5.2s\n",
      "26:\tlearn: 310.6048107\ttotal: 142ms\tremaining: 5.1s\n",
      "27:\tlearn: 307.5101100\ttotal: 144ms\tremaining: 5.01s\n",
      "28:\tlearn: 304.8805102\ttotal: 147ms\tremaining: 4.93s\n",
      "29:\tlearn: 301.7221365\ttotal: 150ms\tremaining: 4.85s\n",
      "30:\tlearn: 299.1455987\ttotal: 154ms\tremaining: 4.81s\n",
      "31:\tlearn: 296.2192728\ttotal: 158ms\tremaining: 4.79s\n",
      "32:\tlearn: 293.5675204\ttotal: 163ms\tremaining: 4.77s\n",
      "33:\tlearn: 290.7175796\ttotal: 168ms\tremaining: 4.76s\n",
      "34:\tlearn: 288.0390634\ttotal: 171ms\tremaining: 4.72s\n",
      "35:\tlearn: 285.4750848\ttotal: 175ms\tremaining: 4.7s\n",
      "36:\tlearn: 282.9714917\ttotal: 183ms\tremaining: 4.76s\n",
      "37:\tlearn: 280.2199929\ttotal: 191ms\tremaining: 4.83s\n",
      "38:\tlearn: 277.5770675\ttotal: 195ms\tremaining: 4.81s\n",
      "39:\tlearn: 275.1672004\ttotal: 198ms\tremaining: 4.76s\n",
      "40:\tlearn: 273.0035559\ttotal: 201ms\tremaining: 4.71s\n",
      "41:\tlearn: 270.8655998\ttotal: 205ms\tremaining: 4.68s\n",
      "42:\tlearn: 268.4936004\ttotal: 209ms\tremaining: 4.66s\n",
      "43:\tlearn: 265.9364450\ttotal: 213ms\tremaining: 4.63s\n",
      "44:\tlearn: 263.5181477\ttotal: 217ms\tremaining: 4.61s\n",
      "45:\tlearn: 260.7805980\ttotal: 220ms\tremaining: 4.56s\n",
      "46:\tlearn: 258.6294216\ttotal: 223ms\tremaining: 4.52s\n",
      "47:\tlearn: 256.4644540\ttotal: 226ms\tremaining: 4.49s\n",
      "48:\tlearn: 254.4952499\ttotal: 230ms\tremaining: 4.45s\n",
      "49:\tlearn: 252.4469000\ttotal: 232ms\tremaining: 4.42s\n",
      "50:\tlearn: 250.6482301\ttotal: 235ms\tremaining: 4.38s\n",
      "51:\tlearn: 249.1175827\ttotal: 239ms\tremaining: 4.36s\n",
      "52:\tlearn: 247.2823353\ttotal: 243ms\tremaining: 4.34s\n",
      "53:\tlearn: 245.8196992\ttotal: 246ms\tremaining: 4.31s\n",
      "54:\tlearn: 244.1827271\ttotal: 249ms\tremaining: 4.28s\n",
      "55:\tlearn: 242.5276929\ttotal: 252ms\tremaining: 4.25s\n",
      "56:\tlearn: 241.1226877\ttotal: 255ms\tremaining: 4.21s\n",
      "57:\tlearn: 239.5578279\ttotal: 258ms\tremaining: 4.19s\n",
      "58:\tlearn: 237.7798530\ttotal: 261ms\tremaining: 4.16s\n",
      "59:\tlearn: 236.1171003\ttotal: 264ms\tremaining: 4.13s\n",
      "60:\tlearn: 234.8506567\ttotal: 268ms\tremaining: 4.12s\n",
      "61:\tlearn: 233.3346470\ttotal: 271ms\tremaining: 4.11s\n",
      "62:\tlearn: 231.5278926\ttotal: 276ms\tremaining: 4.1s\n",
      "63:\tlearn: 229.7307949\ttotal: 279ms\tremaining: 4.08s\n",
      "64:\tlearn: 228.2217724\ttotal: 282ms\tremaining: 4.06s\n",
      "65:\tlearn: 226.7296074\ttotal: 285ms\tremaining: 4.04s\n",
      "66:\tlearn: 225.3399310\ttotal: 289ms\tremaining: 4.02s\n",
      "67:\tlearn: 223.7883945\ttotal: 291ms\tremaining: 3.99s\n",
      "68:\tlearn: 222.2232948\ttotal: 294ms\tremaining: 3.97s\n",
      "69:\tlearn: 220.4546419\ttotal: 297ms\tremaining: 3.95s\n",
      "70:\tlearn: 218.7053575\ttotal: 300ms\tremaining: 3.92s\n",
      "71:\tlearn: 217.1760043\ttotal: 303ms\tremaining: 3.9s\n",
      "72:\tlearn: 215.7327354\ttotal: 306ms\tremaining: 3.89s\n",
      "73:\tlearn: 214.3731305\ttotal: 309ms\tremaining: 3.87s\n",
      "74:\tlearn: 212.9975713\ttotal: 312ms\tremaining: 3.85s\n",
      "75:\tlearn: 211.7544939\ttotal: 315ms\tremaining: 3.83s\n",
      "76:\tlearn: 210.3623412\ttotal: 319ms\tremaining: 3.82s\n",
      "77:\tlearn: 208.8770806\ttotal: 322ms\tremaining: 3.8s\n",
      "78:\tlearn: 207.7806717\ttotal: 325ms\tremaining: 3.78s\n",
      "79:\tlearn: 206.5401739\ttotal: 328ms\tremaining: 3.77s\n",
      "80:\tlearn: 205.2495970\ttotal: 330ms\tremaining: 3.75s\n",
      "81:\tlearn: 203.9994699\ttotal: 333ms\tremaining: 3.73s\n",
      "82:\tlearn: 203.1805572\ttotal: 336ms\tremaining: 3.71s\n",
      "83:\tlearn: 201.9983137\ttotal: 339ms\tremaining: 3.7s\n",
      "84:\tlearn: 200.8292388\ttotal: 343ms\tremaining: 3.7s\n",
      "85:\tlearn: 199.3364907\ttotal: 347ms\tremaining: 3.69s\n",
      "86:\tlearn: 198.5512776\ttotal: 351ms\tremaining: 3.69s\n",
      "87:\tlearn: 197.3505569\ttotal: 354ms\tremaining: 3.67s\n",
      "88:\tlearn: 196.2922515\ttotal: 357ms\tremaining: 3.66s\n",
      "89:\tlearn: 195.1206335\ttotal: 360ms\tremaining: 3.64s\n",
      "90:\tlearn: 194.1229881\ttotal: 363ms\tremaining: 3.63s\n",
      "91:\tlearn: 193.1449202\ttotal: 367ms\tremaining: 3.62s\n",
      "92:\tlearn: 191.9726412\ttotal: 371ms\tremaining: 3.62s\n",
      "93:\tlearn: 191.0214854\ttotal: 376ms\tremaining: 3.62s\n",
      "94:\tlearn: 190.0204211\ttotal: 381ms\tremaining: 3.63s\n",
      "95:\tlearn: 189.2999030\ttotal: 385ms\tremaining: 3.62s\n",
      "96:\tlearn: 188.2664950\ttotal: 388ms\tremaining: 3.61s\n",
      "97:\tlearn: 187.4077032\ttotal: 393ms\tremaining: 3.61s\n",
      "98:\tlearn: 186.4474913\ttotal: 397ms\tremaining: 3.61s\n",
      "99:\tlearn: 185.7365796\ttotal: 400ms\tremaining: 3.6s\n",
      "100:\tlearn: 184.8662813\ttotal: 405ms\tremaining: 3.6s\n",
      "101:\tlearn: 184.1026481\ttotal: 407ms\tremaining: 3.59s\n",
      "102:\tlearn: 183.0224889\ttotal: 411ms\tremaining: 3.58s\n",
      "103:\tlearn: 182.2887446\ttotal: 414ms\tremaining: 3.57s\n",
      "104:\tlearn: 181.5894460\ttotal: 417ms\tremaining: 3.56s\n",
      "105:\tlearn: 180.6410367\ttotal: 420ms\tremaining: 3.54s\n",
      "106:\tlearn: 180.1491058\ttotal: 423ms\tremaining: 3.53s\n",
      "107:\tlearn: 179.1617025\ttotal: 427ms\tremaining: 3.52s\n",
      "108:\tlearn: 178.0296133\ttotal: 429ms\tremaining: 3.51s\n",
      "109:\tlearn: 177.5016841\ttotal: 432ms\tremaining: 3.5s\n",
      "110:\tlearn: 177.1946105\ttotal: 435ms\tremaining: 3.49s\n",
      "111:\tlearn: 176.1205513\ttotal: 438ms\tremaining: 3.48s\n",
      "112:\tlearn: 175.2657245\ttotal: 441ms\tremaining: 3.46s\n",
      "113:\tlearn: 174.3373845\ttotal: 447ms\tremaining: 3.48s\n",
      "114:\tlearn: 173.5639126\ttotal: 452ms\tremaining: 3.47s\n",
      "115:\tlearn: 172.8004074\ttotal: 458ms\tremaining: 3.49s\n",
      "116:\tlearn: 172.0365086\ttotal: 467ms\tremaining: 3.52s\n",
      "117:\tlearn: 171.2490532\ttotal: 482ms\tremaining: 3.6s\n",
      "118:\tlearn: 170.6457221\ttotal: 490ms\tremaining: 3.63s\n",
      "119:\tlearn: 169.8679757\ttotal: 513ms\tremaining: 3.76s\n",
      "120:\tlearn: 168.8164739\ttotal: 523ms\tremaining: 3.8s\n",
      "121:\tlearn: 168.0173347\ttotal: 531ms\tremaining: 3.82s\n",
      "122:\tlearn: 167.2543436\ttotal: 538ms\tremaining: 3.83s\n",
      "123:\tlearn: 166.4029972\ttotal: 548ms\tremaining: 3.87s\n",
      "124:\tlearn: 165.5718689\ttotal: 553ms\tremaining: 3.87s\n",
      "125:\tlearn: 165.1448370\ttotal: 557ms\tremaining: 3.86s\n",
      "126:\tlearn: 164.3074460\ttotal: 562ms\tremaining: 3.86s\n",
      "127:\tlearn: 163.5531625\ttotal: 566ms\tremaining: 3.85s\n",
      "128:\tlearn: 162.8461278\ttotal: 569ms\tremaining: 3.84s\n",
      "129:\tlearn: 162.3867328\ttotal: 574ms\tremaining: 3.84s\n",
      "130:\tlearn: 161.9411254\ttotal: 578ms\tremaining: 3.83s\n",
      "131:\tlearn: 161.1432236\ttotal: 582ms\tremaining: 3.82s\n",
      "132:\tlearn: 160.7744911\ttotal: 585ms\tremaining: 3.81s\n",
      "133:\tlearn: 160.4434255\ttotal: 590ms\tremaining: 3.81s\n",
      "134:\tlearn: 159.6349894\ttotal: 592ms\tremaining: 3.79s\n",
      "135:\tlearn: 158.9059611\ttotal: 595ms\tremaining: 3.78s\n",
      "136:\tlearn: 158.7466777\ttotal: 601ms\tremaining: 3.78s\n",
      "137:\tlearn: 158.2387569\ttotal: 604ms\tremaining: 3.77s\n",
      "138:\tlearn: 157.3479637\ttotal: 606ms\tremaining: 3.75s\n",
      "139:\tlearn: 156.7593027\ttotal: 609ms\tremaining: 3.74s\n",
      "140:\tlearn: 156.1584730\ttotal: 612ms\tremaining: 3.73s\n",
      "141:\tlearn: 155.9127626\ttotal: 615ms\tremaining: 3.72s\n",
      "142:\tlearn: 155.7703231\ttotal: 617ms\tremaining: 3.7s\n",
      "143:\tlearn: 155.0476740\ttotal: 620ms\tremaining: 3.69s\n",
      "144:\tlearn: 154.6212730\ttotal: 623ms\tremaining: 3.67s\n",
      "145:\tlearn: 153.9229426\ttotal: 626ms\tremaining: 3.66s\n",
      "146:\tlearn: 153.5830182\ttotal: 629ms\tremaining: 3.65s\n",
      "147:\tlearn: 153.0035131\ttotal: 631ms\tremaining: 3.63s\n",
      "148:\tlearn: 152.3231127\ttotal: 634ms\tremaining: 3.62s\n",
      "149:\tlearn: 151.9341230\ttotal: 637ms\tremaining: 3.61s\n",
      "150:\tlearn: 151.1905008\ttotal: 640ms\tremaining: 3.6s\n",
      "151:\tlearn: 150.7148964\ttotal: 643ms\tremaining: 3.58s\n",
      "152:\tlearn: 150.1749339\ttotal: 646ms\tremaining: 3.57s\n",
      "153:\tlearn: 149.6638681\ttotal: 648ms\tremaining: 3.56s\n",
      "154:\tlearn: 149.3454405\ttotal: 651ms\tremaining: 3.55s\n",
      "155:\tlearn: 148.8597025\ttotal: 654ms\tremaining: 3.54s\n",
      "156:\tlearn: 148.1910085\ttotal: 657ms\tremaining: 3.53s\n",
      "157:\tlearn: 147.9290881\ttotal: 660ms\tremaining: 3.52s\n",
      "158:\tlearn: 147.5693230\ttotal: 663ms\tremaining: 3.51s\n",
      "159:\tlearn: 147.2586599\ttotal: 666ms\tremaining: 3.5s\n",
      "160:\tlearn: 147.1115469\ttotal: 669ms\tremaining: 3.49s\n",
      "161:\tlearn: 146.8103657\ttotal: 672ms\tremaining: 3.48s\n",
      "162:\tlearn: 146.3984160\ttotal: 675ms\tremaining: 3.46s\n",
      "163:\tlearn: 146.0248884\ttotal: 678ms\tremaining: 3.45s\n",
      "164:\tlearn: 145.4799847\ttotal: 681ms\tremaining: 3.44s\n",
      "165:\tlearn: 144.8989830\ttotal: 684ms\tremaining: 3.44s\n",
      "166:\tlearn: 144.6438801\ttotal: 687ms\tremaining: 3.42s\n",
      "167:\tlearn: 144.1618451\ttotal: 690ms\tremaining: 3.42s\n",
      "168:\tlearn: 143.7195667\ttotal: 692ms\tremaining: 3.4s\n",
      "169:\tlearn: 143.3176717\ttotal: 695ms\tremaining: 3.39s\n",
      "170:\tlearn: 143.0003346\ttotal: 698ms\tremaining: 3.38s\n",
      "171:\tlearn: 142.7708723\ttotal: 701ms\tremaining: 3.37s\n",
      "172:\tlearn: 142.4158194\ttotal: 704ms\tremaining: 3.36s\n",
      "173:\tlearn: 142.1700556\ttotal: 707ms\tremaining: 3.35s\n",
      "174:\tlearn: 141.3813479\ttotal: 710ms\tremaining: 3.35s\n",
      "175:\tlearn: 140.9966574\ttotal: 713ms\tremaining: 3.34s\n",
      "176:\tlearn: 140.6157737\ttotal: 715ms\tremaining: 3.33s\n",
      "177:\tlearn: 140.1790386\ttotal: 718ms\tremaining: 3.32s\n",
      "178:\tlearn: 140.0348251\ttotal: 721ms\tremaining: 3.31s\n",
      "179:\tlearn: 139.5039555\ttotal: 724ms\tremaining: 3.3s\n",
      "180:\tlearn: 139.0830351\ttotal: 727ms\tremaining: 3.29s\n",
      "181:\tlearn: 138.4936730\ttotal: 730ms\tremaining: 3.28s\n",
      "182:\tlearn: 137.5554408\ttotal: 733ms\tremaining: 3.27s\n",
      "183:\tlearn: 137.1564760\ttotal: 735ms\tremaining: 3.26s\n",
      "184:\tlearn: 136.5924438\ttotal: 738ms\tremaining: 3.25s\n",
      "185:\tlearn: 136.3818717\ttotal: 742ms\tremaining: 3.25s\n",
      "186:\tlearn: 136.2699807\ttotal: 746ms\tremaining: 3.24s\n",
      "187:\tlearn: 135.9481610\ttotal: 750ms\tremaining: 3.24s\n",
      "188:\tlearn: 135.5612827\ttotal: 754ms\tremaining: 3.24s\n",
      "189:\tlearn: 135.2636336\ttotal: 758ms\tremaining: 3.23s\n",
      "190:\tlearn: 134.9615709\ttotal: 762ms\tremaining: 3.23s\n",
      "191:\tlearn: 134.3958253\ttotal: 766ms\tremaining: 3.22s\n",
      "192:\tlearn: 134.1920089\ttotal: 770ms\tremaining: 3.22s\n",
      "193:\tlearn: 133.8799103\ttotal: 774ms\tremaining: 3.22s\n",
      "194:\tlearn: 133.3098986\ttotal: 778ms\tremaining: 3.21s\n",
      "195:\tlearn: 133.0778883\ttotal: 783ms\tremaining: 3.21s\n",
      "196:\tlearn: 132.9233103\ttotal: 786ms\tremaining: 3.2s\n",
      "197:\tlearn: 132.5341284\ttotal: 789ms\tremaining: 3.19s\n",
      "198:\tlearn: 132.2954905\ttotal: 792ms\tremaining: 3.19s\n",
      "199:\tlearn: 131.6262500\ttotal: 794ms\tremaining: 3.18s\n",
      "200:\tlearn: 130.9510093\ttotal: 797ms\tremaining: 3.17s\n",
      "201:\tlearn: 130.7098383\ttotal: 801ms\tremaining: 3.16s\n",
      "202:\tlearn: 130.3233209\ttotal: 803ms\tremaining: 3.15s\n",
      "203:\tlearn: 129.9804863\ttotal: 806ms\tremaining: 3.15s\n",
      "204:\tlearn: 129.8119485\ttotal: 809ms\tremaining: 3.14s\n",
      "205:\tlearn: 129.6392963\ttotal: 812ms\tremaining: 3.13s\n",
      "206:\tlearn: 129.2962032\ttotal: 815ms\tremaining: 3.12s\n",
      "207:\tlearn: 129.1286176\ttotal: 818ms\tremaining: 3.12s\n",
      "208:\tlearn: 128.6782630\ttotal: 821ms\tremaining: 3.11s\n",
      "209:\tlearn: 128.1371953\ttotal: 824ms\tremaining: 3.1s\n",
      "210:\tlearn: 127.7522843\ttotal: 827ms\tremaining: 3.09s\n",
      "211:\tlearn: 127.2733241\ttotal: 829ms\tremaining: 3.08s\n",
      "212:\tlearn: 126.8009844\ttotal: 832ms\tremaining: 3.08s\n",
      "213:\tlearn: 126.5608328\ttotal: 835ms\tremaining: 3.07s\n",
      "214:\tlearn: 125.9797530\ttotal: 838ms\tremaining: 3.06s\n",
      "215:\tlearn: 125.6745081\ttotal: 841ms\tremaining: 3.05s\n",
      "216:\tlearn: 125.2931552\ttotal: 844ms\tremaining: 3.04s\n",
      "217:\tlearn: 125.1792731\ttotal: 847ms\tremaining: 3.04s\n",
      "218:\tlearn: 124.7583654\ttotal: 850ms\tremaining: 3.03s\n",
      "219:\tlearn: 124.0352029\ttotal: 853ms\tremaining: 3.02s\n",
      "220:\tlearn: 123.8619711\ttotal: 856ms\tremaining: 3.02s\n",
      "221:\tlearn: 123.5302831\ttotal: 859ms\tremaining: 3.01s\n",
      "222:\tlearn: 122.9659303\ttotal: 862ms\tremaining: 3s\n",
      "223:\tlearn: 122.6658614\ttotal: 865ms\tremaining: 3s\n",
      "224:\tlearn: 121.9495377\ttotal: 868ms\tremaining: 2.99s\n",
      "225:\tlearn: 121.8453588\ttotal: 871ms\tremaining: 2.98s\n",
      "226:\tlearn: 121.5667652\ttotal: 874ms\tremaining: 2.98s\n",
      "227:\tlearn: 120.9984320\ttotal: 877ms\tremaining: 2.97s\n",
      "228:\tlearn: 120.9166842\ttotal: 880ms\tremaining: 2.96s\n",
      "229:\tlearn: 120.8195607\ttotal: 883ms\tremaining: 2.95s\n",
      "230:\tlearn: 120.3747461\ttotal: 886ms\tremaining: 2.95s\n",
      "231:\tlearn: 120.2552097\ttotal: 889ms\tremaining: 2.94s\n",
      "232:\tlearn: 119.8757948\ttotal: 892ms\tremaining: 2.93s\n",
      "233:\tlearn: 119.7813399\ttotal: 894ms\tremaining: 2.93s\n",
      "234:\tlearn: 119.1553725\ttotal: 898ms\tremaining: 2.92s\n",
      "235:\tlearn: 119.0072741\ttotal: 903ms\tremaining: 2.92s\n",
      "236:\tlearn: 118.3562367\ttotal: 907ms\tremaining: 2.92s\n",
      "237:\tlearn: 118.2746161\ttotal: 912ms\tremaining: 2.92s\n",
      "238:\tlearn: 118.1762144\ttotal: 916ms\tremaining: 2.92s\n",
      "239:\tlearn: 117.8855792\ttotal: 920ms\tremaining: 2.91s\n",
      "240:\tlearn: 117.0852910\ttotal: 924ms\tremaining: 2.91s\n",
      "241:\tlearn: 116.7709550\ttotal: 930ms\tremaining: 2.91s\n",
      "242:\tlearn: 116.6794185\ttotal: 934ms\tremaining: 2.91s\n",
      "243:\tlearn: 116.0547101\ttotal: 939ms\tremaining: 2.91s\n",
      "244:\tlearn: 115.3837848\ttotal: 944ms\tremaining: 2.91s\n",
      "245:\tlearn: 115.3048500\ttotal: 949ms\tremaining: 2.91s\n",
      "246:\tlearn: 115.2205543\ttotal: 954ms\tremaining: 2.91s\n",
      "247:\tlearn: 114.9020713\ttotal: 958ms\tremaining: 2.9s\n",
      "248:\tlearn: 114.6058585\ttotal: 963ms\tremaining: 2.9s\n",
      "249:\tlearn: 114.3342003\ttotal: 969ms\tremaining: 2.91s\n",
      "250:\tlearn: 114.2490232\ttotal: 976ms\tremaining: 2.91s\n",
      "251:\tlearn: 113.8889143\ttotal: 980ms\tremaining: 2.91s\n",
      "252:\tlearn: 113.6566948\ttotal: 984ms\tremaining: 2.91s\n",
      "253:\tlearn: 113.4800006\ttotal: 988ms\tremaining: 2.9s\n",
      "254:\tlearn: 112.8616938\ttotal: 993ms\tremaining: 2.9s\n",
      "255:\tlearn: 112.6414278\ttotal: 998ms\tremaining: 2.9s\n",
      "256:\tlearn: 112.0987549\ttotal: 1s\tremaining: 2.9s\n",
      "257:\tlearn: 112.0237246\ttotal: 1.01s\tremaining: 2.9s\n",
      "258:\tlearn: 111.4827250\ttotal: 1.01s\tremaining: 2.89s\n",
      "259:\tlearn: 111.4089978\ttotal: 1.01s\tremaining: 2.89s\n",
      "260:\tlearn: 111.1975900\ttotal: 1.02s\tremaining: 2.88s\n",
      "261:\tlearn: 110.6222983\ttotal: 1.02s\tremaining: 2.87s\n",
      "262:\tlearn: 110.4468960\ttotal: 1.02s\tremaining: 2.87s\n",
      "263:\tlearn: 110.3731343\ttotal: 1.03s\tremaining: 2.86s\n",
      "264:\tlearn: 109.9456313\ttotal: 1.03s\tremaining: 2.86s\n",
      "265:\tlearn: 109.6583390\ttotal: 1.03s\tremaining: 2.85s\n",
      "266:\tlearn: 109.3670073\ttotal: 1.04s\tremaining: 2.84s\n",
      "267:\tlearn: 109.3059283\ttotal: 1.04s\tremaining: 2.84s\n",
      "268:\tlearn: 109.2004806\ttotal: 1.04s\tremaining: 2.83s\n",
      "269:\tlearn: 108.6930043\ttotal: 1.04s\tremaining: 2.83s\n",
      "270:\tlearn: 108.4005648\ttotal: 1.05s\tremaining: 2.82s\n",
      "271:\tlearn: 108.3214011\ttotal: 1.05s\tremaining: 2.81s\n",
      "272:\tlearn: 107.8192313\ttotal: 1.05s\tremaining: 2.81s\n",
      "273:\tlearn: 107.7458493\ttotal: 1.06s\tremaining: 2.8s\n",
      "274:\tlearn: 107.3622395\ttotal: 1.06s\tremaining: 2.79s\n",
      "275:\tlearn: 107.0147483\ttotal: 1.06s\tremaining: 2.79s\n",
      "276:\tlearn: 106.4929386\ttotal: 1.06s\tremaining: 2.78s\n",
      "277:\tlearn: 106.2778328\ttotal: 1.07s\tremaining: 2.77s\n",
      "278:\tlearn: 105.7733473\ttotal: 1.07s\tremaining: 2.77s\n",
      "279:\tlearn: 105.7122322\ttotal: 1.07s\tremaining: 2.76s\n",
      "280:\tlearn: 104.9579852\ttotal: 1.08s\tremaining: 2.75s\n",
      "281:\tlearn: 104.4080134\ttotal: 1.08s\tremaining: 2.75s\n",
      "282:\tlearn: 104.2772711\ttotal: 1.08s\tremaining: 2.74s\n",
      "283:\tlearn: 104.2165992\ttotal: 1.08s\tremaining: 2.74s\n",
      "284:\tlearn: 104.1509984\ttotal: 1.09s\tremaining: 2.73s\n",
      "285:\tlearn: 104.0867458\ttotal: 1.09s\tremaining: 2.72s\n",
      "286:\tlearn: 103.5479897\ttotal: 1.09s\tremaining: 2.72s\n",
      "287:\tlearn: 103.2983212\ttotal: 1.1s\tremaining: 2.71s\n",
      "288:\tlearn: 102.9268291\ttotal: 1.1s\tremaining: 2.71s\n",
      "289:\tlearn: 102.6800869\ttotal: 1.1s\tremaining: 2.7s\n",
      "290:\tlearn: 102.3942411\ttotal: 1.1s\tremaining: 2.69s\n",
      "291:\tlearn: 101.8363730\ttotal: 1.11s\tremaining: 2.69s\n",
      "292:\tlearn: 101.4257297\ttotal: 1.11s\tremaining: 2.68s\n",
      "293:\tlearn: 101.3656399\ttotal: 1.11s\tremaining: 2.67s\n",
      "294:\tlearn: 101.0313049\ttotal: 1.12s\tremaining: 2.67s\n",
      "295:\tlearn: 100.9389308\ttotal: 1.12s\tremaining: 2.67s\n",
      "296:\tlearn: 100.4805827\ttotal: 1.13s\tremaining: 2.67s\n",
      "297:\tlearn: 100.1126440\ttotal: 1.13s\tremaining: 2.66s\n",
      "298:\tlearn: 99.5779467\ttotal: 1.13s\tremaining: 2.66s\n",
      "299:\tlearn: 99.5224888\ttotal: 1.14s\tremaining: 2.66s\n",
      "300:\tlearn: 99.4734234\ttotal: 1.14s\tremaining: 2.65s\n",
      "301:\tlearn: 98.9116191\ttotal: 1.15s\tremaining: 2.65s\n",
      "302:\tlearn: 98.4422971\ttotal: 1.15s\tremaining: 2.65s\n",
      "303:\tlearn: 98.0516855\ttotal: 1.15s\tremaining: 2.64s\n",
      "304:\tlearn: 97.6709684\ttotal: 1.16s\tremaining: 2.63s\n",
      "305:\tlearn: 97.6145437\ttotal: 1.16s\tremaining: 2.63s\n",
      "306:\tlearn: 97.4378189\ttotal: 1.16s\tremaining: 2.62s\n",
      "307:\tlearn: 97.3816488\ttotal: 1.17s\tremaining: 2.62s\n",
      "308:\tlearn: 96.9243564\ttotal: 1.17s\tremaining: 2.61s\n",
      "309:\tlearn: 96.5732455\ttotal: 1.17s\tremaining: 2.61s\n",
      "310:\tlearn: 96.0416477\ttotal: 1.17s\tremaining: 2.6s\n",
      "311:\tlearn: 95.6962932\ttotal: 1.18s\tremaining: 2.6s\n",
      "312:\tlearn: 95.3430909\ttotal: 1.18s\tremaining: 2.59s\n",
      "313:\tlearn: 95.1715964\ttotal: 1.18s\tremaining: 2.59s\n",
      "314:\tlearn: 94.7959639\ttotal: 1.19s\tremaining: 2.58s\n",
      "315:\tlearn: 94.5187918\ttotal: 1.19s\tremaining: 2.58s\n",
      "316:\tlearn: 94.0072971\ttotal: 1.19s\tremaining: 2.57s\n",
      "317:\tlearn: 93.9602504\ttotal: 1.2s\tremaining: 2.56s\n",
      "318:\tlearn: 93.4760505\ttotal: 1.2s\tremaining: 2.56s\n",
      "319:\tlearn: 93.1412320\ttotal: 1.2s\tremaining: 2.55s\n",
      "320:\tlearn: 93.0913618\ttotal: 1.2s\tremaining: 2.55s\n",
      "321:\tlearn: 93.0395528\ttotal: 1.21s\tremaining: 2.54s\n",
      "322:\tlearn: 92.6150780\ttotal: 1.21s\tremaining: 2.54s\n",
      "323:\tlearn: 92.2753985\ttotal: 1.21s\tremaining: 2.53s\n",
      "324:\tlearn: 91.7995508\ttotal: 1.22s\tremaining: 2.53s\n",
      "325:\tlearn: 91.4035450\ttotal: 1.22s\tremaining: 2.52s\n",
      "326:\tlearn: 91.3650288\ttotal: 1.22s\tremaining: 2.52s\n",
      "327:\tlearn: 90.8722323\ttotal: 1.23s\tremaining: 2.51s\n",
      "328:\tlearn: 90.6002223\ttotal: 1.23s\tremaining: 2.5s\n",
      "329:\tlearn: 90.5570676\ttotal: 1.23s\tremaining: 2.5s\n",
      "330:\tlearn: 90.5100222\ttotal: 1.23s\tremaining: 2.49s\n",
      "331:\tlearn: 90.1680496\ttotal: 1.24s\tremaining: 2.49s\n",
      "332:\tlearn: 90.1257383\ttotal: 1.24s\tremaining: 2.48s\n",
      "333:\tlearn: 89.7497218\ttotal: 1.24s\tremaining: 2.48s\n",
      "334:\tlearn: 89.7038249\ttotal: 1.25s\tremaining: 2.47s\n",
      "335:\tlearn: 89.5715138\ttotal: 1.25s\tremaining: 2.47s\n",
      "336:\tlearn: 89.4446284\ttotal: 1.25s\tremaining: 2.46s\n",
      "337:\tlearn: 89.1412031\ttotal: 1.25s\tremaining: 2.46s\n",
      "338:\tlearn: 88.9398425\ttotal: 1.26s\tremaining: 2.45s\n",
      "339:\tlearn: 88.8965753\ttotal: 1.26s\tremaining: 2.45s\n",
      "340:\tlearn: 88.5527483\ttotal: 1.26s\tremaining: 2.44s\n",
      "341:\tlearn: 88.2515001\ttotal: 1.27s\tremaining: 2.44s\n",
      "342:\tlearn: 88.0569499\ttotal: 1.27s\tremaining: 2.44s\n",
      "343:\tlearn: 88.0148350\ttotal: 1.27s\tremaining: 2.43s\n",
      "344:\tlearn: 87.7392050\ttotal: 1.28s\tremaining: 2.42s\n",
      "345:\tlearn: 87.4439427\ttotal: 1.28s\tremaining: 2.42s\n",
      "346:\tlearn: 87.4026237\ttotal: 1.28s\tremaining: 2.41s\n",
      "347:\tlearn: 87.0839511\ttotal: 1.28s\tremaining: 2.41s\n",
      "348:\tlearn: 86.8158906\ttotal: 1.29s\tremaining: 2.4s\n",
      "349:\tlearn: 86.3921329\ttotal: 1.29s\tremaining: 2.4s\n",
      "350:\tlearn: 86.3518511\ttotal: 1.29s\tremaining: 2.39s\n",
      "351:\tlearn: 86.0581831\ttotal: 1.3s\tremaining: 2.39s\n",
      "352:\tlearn: 85.6812877\ttotal: 1.3s\tremaining: 2.38s\n",
      "353:\tlearn: 85.6408972\ttotal: 1.31s\tremaining: 2.39s\n",
      "354:\tlearn: 85.4216882\ttotal: 1.32s\tremaining: 2.39s\n",
      "355:\tlearn: 85.1181085\ttotal: 1.33s\tremaining: 2.4s\n",
      "356:\tlearn: 84.7700868\ttotal: 1.34s\tremaining: 2.41s\n",
      "357:\tlearn: 84.7309342\ttotal: 1.34s\tremaining: 2.4s\n",
      "358:\tlearn: 84.3241444\ttotal: 1.34s\tremaining: 2.4s\n",
      "359:\tlearn: 84.0713897\ttotal: 1.35s\tremaining: 2.4s\n",
      "360:\tlearn: 83.7538944\ttotal: 1.36s\tremaining: 2.41s\n",
      "361:\tlearn: 83.4496036\ttotal: 1.36s\tremaining: 2.41s\n",
      "362:\tlearn: 83.3798976\ttotal: 1.37s\tremaining: 2.4s\n",
      "363:\tlearn: 83.3432416\ttotal: 1.37s\tremaining: 2.4s\n",
      "364:\tlearn: 82.8890872\ttotal: 1.38s\tremaining: 2.39s\n",
      "365:\tlearn: 82.3890981\ttotal: 1.38s\tremaining: 2.39s\n",
      "366:\tlearn: 82.0252760\ttotal: 1.38s\tremaining: 2.38s\n",
      "367:\tlearn: 81.7426145\ttotal: 1.39s\tremaining: 2.38s\n",
      "368:\tlearn: 81.3795995\ttotal: 1.39s\tremaining: 2.38s\n",
      "369:\tlearn: 81.3385631\ttotal: 1.39s\tremaining: 2.37s\n",
      "370:\tlearn: 81.2054443\ttotal: 1.4s\tremaining: 2.37s\n",
      "371:\tlearn: 80.9457481\ttotal: 1.4s\tremaining: 2.37s\n",
      "372:\tlearn: 80.7081188\ttotal: 1.41s\tremaining: 2.36s\n",
      "373:\tlearn: 80.4692093\ttotal: 1.41s\tremaining: 2.36s\n",
      "374:\tlearn: 80.2033476\ttotal: 1.41s\tremaining: 2.35s\n",
      "375:\tlearn: 79.8159865\ttotal: 1.42s\tremaining: 2.35s\n",
      "376:\tlearn: 79.4492050\ttotal: 1.42s\tremaining: 2.35s\n",
      "377:\tlearn: 79.4153311\ttotal: 1.42s\tremaining: 2.34s\n",
      "378:\tlearn: 79.2759121\ttotal: 1.43s\tremaining: 2.33s\n",
      "379:\tlearn: 79.0868164\ttotal: 1.43s\tremaining: 2.34s\n",
      "380:\tlearn: 78.7163057\ttotal: 1.44s\tremaining: 2.34s\n",
      "381:\tlearn: 78.4104587\ttotal: 1.44s\tremaining: 2.33s\n",
      "382:\tlearn: 78.0456436\ttotal: 1.45s\tremaining: 2.33s\n",
      "383:\tlearn: 78.0109096\ttotal: 1.45s\tremaining: 2.33s\n",
      "384:\tlearn: 77.7322622\ttotal: 1.46s\tremaining: 2.33s\n",
      "385:\tlearn: 77.4176081\ttotal: 1.46s\tremaining: 2.33s\n",
      "386:\tlearn: 77.0591792\ttotal: 1.47s\tremaining: 2.33s\n",
      "387:\tlearn: 76.8421383\ttotal: 1.54s\tremaining: 2.44s\n",
      "388:\tlearn: 76.5248995\ttotal: 1.56s\tremaining: 2.44s\n",
      "389:\tlearn: 76.4943996\ttotal: 1.57s\tremaining: 2.45s\n",
      "390:\tlearn: 76.2817378\ttotal: 1.58s\tremaining: 2.45s\n",
      "391:\tlearn: 76.0724563\ttotal: 1.59s\tremaining: 2.46s\n",
      "392:\tlearn: 75.8177443\ttotal: 1.6s\tremaining: 2.46s\n",
      "393:\tlearn: 75.4835447\ttotal: 1.6s\tremaining: 2.47s\n",
      "394:\tlearn: 75.4502009\ttotal: 1.62s\tremaining: 2.48s\n",
      "395:\tlearn: 75.0999339\ttotal: 1.71s\tremaining: 2.61s\n",
      "396:\tlearn: 74.7471316\ttotal: 1.72s\tremaining: 2.62s\n",
      "397:\tlearn: 74.7118851\ttotal: 1.74s\tremaining: 2.62s\n",
      "398:\tlearn: 74.3313500\ttotal: 1.81s\tremaining: 2.73s\n",
      "399:\tlearn: 74.1118704\ttotal: 1.85s\tremaining: 2.77s\n",
      "400:\tlearn: 73.8894372\ttotal: 1.92s\tremaining: 2.86s\n",
      "401:\tlearn: 73.8580949\ttotal: 1.93s\tremaining: 2.87s\n",
      "402:\tlearn: 73.5283068\ttotal: 1.93s\tremaining: 2.86s\n",
      "403:\tlearn: 73.4940940\ttotal: 1.94s\tremaining: 2.86s\n",
      "404:\tlearn: 73.1377973\ttotal: 1.95s\tremaining: 2.86s\n",
      "405:\tlearn: 72.9270209\ttotal: 1.95s\tremaining: 2.85s\n",
      "406:\tlearn: 72.6670131\ttotal: 1.96s\tremaining: 2.85s\n",
      "407:\tlearn: 72.4558448\ttotal: 1.96s\tremaining: 2.84s\n",
      "408:\tlearn: 72.0397101\ttotal: 1.96s\tremaining: 2.84s\n",
      "409:\tlearn: 72.0059823\ttotal: 1.97s\tremaining: 2.83s\n",
      "410:\tlearn: 71.7799665\ttotal: 1.97s\tremaining: 2.83s\n",
      "411:\tlearn: 71.5821040\ttotal: 1.98s\tremaining: 2.82s\n",
      "412:\tlearn: 71.5555901\ttotal: 1.98s\tremaining: 2.82s\n",
      "413:\tlearn: 71.2360972\ttotal: 1.99s\tremaining: 2.81s\n",
      "414:\tlearn: 71.2091501\ttotal: 1.99s\tremaining: 2.81s\n",
      "415:\tlearn: 70.9912076\ttotal: 1.99s\tremaining: 2.8s\n",
      "416:\tlearn: 70.9590121\ttotal: 2s\tremaining: 2.79s\n",
      "417:\tlearn: 70.6807210\ttotal: 2s\tremaining: 2.79s\n",
      "418:\tlearn: 70.4405684\ttotal: 2s\tremaining: 2.78s\n",
      "419:\tlearn: 70.2128923\ttotal: 2.01s\tremaining: 2.77s\n",
      "420:\tlearn: 69.8731217\ttotal: 2.01s\tremaining: 2.77s\n",
      "421:\tlearn: 69.6260693\ttotal: 2.02s\tremaining: 2.76s\n",
      "422:\tlearn: 69.6000535\ttotal: 2.02s\tremaining: 2.76s\n",
      "423:\tlearn: 69.2902491\ttotal: 2.03s\tremaining: 2.75s\n",
      "424:\tlearn: 69.0831583\ttotal: 2.03s\tremaining: 2.75s\n",
      "425:\tlearn: 68.9360409\ttotal: 2.03s\tremaining: 2.74s\n",
      "426:\tlearn: 68.6838515\ttotal: 2.04s\tremaining: 2.73s\n",
      "427:\tlearn: 68.6067994\ttotal: 2.04s\tremaining: 2.73s\n",
      "428:\tlearn: 68.3138907\ttotal: 2.05s\tremaining: 2.73s\n",
      "429:\tlearn: 68.0422321\ttotal: 2.05s\tremaining: 2.72s\n",
      "430:\tlearn: 67.9039640\ttotal: 2.06s\tremaining: 2.71s\n",
      "431:\tlearn: 67.6620419\ttotal: 2.06s\tremaining: 2.71s\n",
      "432:\tlearn: 67.5311458\ttotal: 2.06s\tremaining: 2.7s\n",
      "433:\tlearn: 67.3898767\ttotal: 2.07s\tremaining: 2.69s\n",
      "434:\tlearn: 67.0881008\ttotal: 2.07s\tremaining: 2.69s\n",
      "435:\tlearn: 66.8219142\ttotal: 2.07s\tremaining: 2.68s\n",
      "436:\tlearn: 66.4966515\ttotal: 2.08s\tremaining: 2.67s\n",
      "437:\tlearn: 66.3821073\ttotal: 2.08s\tremaining: 2.67s\n",
      "438:\tlearn: 66.2716000\ttotal: 2.08s\tremaining: 2.66s\n",
      "439:\tlearn: 65.9527366\ttotal: 2.08s\tremaining: 2.65s\n",
      "440:\tlearn: 65.8373333\ttotal: 2.09s\tremaining: 2.65s\n",
      "441:\tlearn: 65.7198286\ttotal: 2.09s\tremaining: 2.64s\n",
      "442:\tlearn: 65.6903343\ttotal: 2.1s\tremaining: 2.64s\n",
      "443:\tlearn: 65.3535190\ttotal: 2.1s\tremaining: 2.63s\n",
      "444:\tlearn: 65.2327743\ttotal: 2.11s\tremaining: 2.63s\n",
      "445:\tlearn: 65.0532096\ttotal: 2.11s\tremaining: 2.62s\n",
      "446:\tlearn: 64.7530434\ttotal: 2.12s\tremaining: 2.62s\n",
      "447:\tlearn: 64.6571567\ttotal: 2.12s\tremaining: 2.61s\n",
      "448:\tlearn: 64.6073303\ttotal: 2.12s\tremaining: 2.6s\n",
      "449:\tlearn: 64.4591114\ttotal: 2.14s\tremaining: 2.61s\n",
      "450:\tlearn: 64.4293938\ttotal: 2.14s\tremaining: 2.61s\n",
      "451:\tlearn: 64.1549371\ttotal: 2.15s\tremaining: 2.6s\n",
      "452:\tlearn: 64.0428774\ttotal: 2.15s\tremaining: 2.6s\n",
      "453:\tlearn: 64.0207845\ttotal: 2.15s\tremaining: 2.59s\n",
      "454:\tlearn: 63.8519337\ttotal: 2.16s\tremaining: 2.58s\n",
      "455:\tlearn: 63.7624564\ttotal: 2.16s\tremaining: 2.58s\n",
      "456:\tlearn: 63.5737124\ttotal: 2.16s\tremaining: 2.57s\n",
      "457:\tlearn: 63.4066969\ttotal: 2.17s\tremaining: 2.56s\n",
      "458:\tlearn: 63.1496853\ttotal: 2.17s\tremaining: 2.56s\n",
      "459:\tlearn: 62.9882980\ttotal: 2.17s\tremaining: 2.55s\n",
      "460:\tlearn: 62.7386120\ttotal: 2.17s\tremaining: 2.54s\n",
      "461:\tlearn: 62.5255208\ttotal: 2.18s\tremaining: 2.54s\n",
      "462:\tlearn: 62.1593447\ttotal: 2.18s\tremaining: 2.53s\n",
      "463:\tlearn: 62.1326696\ttotal: 2.19s\tremaining: 2.53s\n",
      "464:\tlearn: 61.9179143\ttotal: 2.19s\tremaining: 2.52s\n",
      "465:\tlearn: 61.7269350\ttotal: 2.19s\tremaining: 2.51s\n",
      "466:\tlearn: 61.5658021\ttotal: 2.2s\tremaining: 2.51s\n",
      "467:\tlearn: 61.3596832\ttotal: 2.2s\tremaining: 2.5s\n",
      "468:\tlearn: 61.1749035\ttotal: 2.21s\tremaining: 2.5s\n",
      "469:\tlearn: 61.0026147\ttotal: 2.21s\tremaining: 2.49s\n",
      "470:\tlearn: 60.8531455\ttotal: 2.21s\tremaining: 2.49s\n",
      "471:\tlearn: 60.5715236\ttotal: 2.22s\tremaining: 2.48s\n",
      "472:\tlearn: 60.5475478\ttotal: 2.23s\tremaining: 2.48s\n",
      "473:\tlearn: 60.4911807\ttotal: 2.23s\tremaining: 2.48s\n",
      "474:\tlearn: 60.3927541\ttotal: 2.24s\tremaining: 2.48s\n",
      "475:\tlearn: 60.2531844\ttotal: 2.25s\tremaining: 2.47s\n",
      "476:\tlearn: 59.9112225\ttotal: 2.25s\tremaining: 2.47s\n",
      "477:\tlearn: 59.6224842\ttotal: 2.26s\tremaining: 2.47s\n",
      "478:\tlearn: 59.5575659\ttotal: 2.26s\tremaining: 2.46s\n",
      "479:\tlearn: 59.3584013\ttotal: 2.26s\tremaining: 2.45s\n",
      "480:\tlearn: 59.3358734\ttotal: 2.27s\tremaining: 2.45s\n",
      "481:\tlearn: 59.0974640\ttotal: 2.27s\tremaining: 2.44s\n",
      "482:\tlearn: 58.9971159\ttotal: 2.28s\tremaining: 2.44s\n",
      "483:\tlearn: 58.9176073\ttotal: 2.28s\tremaining: 2.43s\n",
      "484:\tlearn: 58.7126446\ttotal: 2.29s\tremaining: 2.43s\n",
      "485:\tlearn: 58.5168348\ttotal: 2.29s\tremaining: 2.42s\n",
      "486:\tlearn: 58.3016286\ttotal: 2.29s\tremaining: 2.42s\n",
      "487:\tlearn: 58.0654711\ttotal: 2.3s\tremaining: 2.41s\n",
      "488:\tlearn: 57.9737672\ttotal: 2.31s\tremaining: 2.42s\n",
      "489:\tlearn: 57.8434132\ttotal: 2.31s\tremaining: 2.41s\n",
      "490:\tlearn: 57.6444021\ttotal: 2.32s\tremaining: 2.41s\n",
      "491:\tlearn: 57.6215259\ttotal: 2.33s\tremaining: 2.4s\n",
      "492:\tlearn: 57.3731776\ttotal: 2.33s\tremaining: 2.4s\n",
      "493:\tlearn: 57.0853629\ttotal: 2.33s\tremaining: 2.39s\n",
      "494:\tlearn: 56.9631902\ttotal: 2.34s\tremaining: 2.38s\n",
      "495:\tlearn: 56.8504262\ttotal: 2.34s\tremaining: 2.38s\n",
      "496:\tlearn: 56.8016804\ttotal: 2.35s\tremaining: 2.38s\n",
      "497:\tlearn: 56.6427650\ttotal: 2.35s\tremaining: 2.37s\n",
      "498:\tlearn: 56.5177990\ttotal: 2.35s\tremaining: 2.36s\n",
      "499:\tlearn: 56.3452549\ttotal: 2.36s\tremaining: 2.36s\n",
      "500:\tlearn: 56.0089361\ttotal: 2.36s\tremaining: 2.35s\n",
      "501:\tlearn: 55.7902960\ttotal: 2.36s\tremaining: 2.35s\n",
      "502:\tlearn: 55.5640346\ttotal: 2.37s\tremaining: 2.34s\n",
      "503:\tlearn: 55.4620073\ttotal: 2.37s\tremaining: 2.33s\n",
      "504:\tlearn: 55.3781691\ttotal: 2.37s\tremaining: 2.33s\n",
      "505:\tlearn: 55.2529705\ttotal: 2.38s\tremaining: 2.32s\n",
      "506:\tlearn: 55.0738686\ttotal: 2.38s\tremaining: 2.31s\n",
      "507:\tlearn: 54.8480920\ttotal: 2.38s\tremaining: 2.31s\n",
      "508:\tlearn: 54.6743692\ttotal: 2.39s\tremaining: 2.3s\n",
      "509:\tlearn: 54.5863756\ttotal: 2.39s\tremaining: 2.3s\n",
      "510:\tlearn: 54.4999712\ttotal: 2.4s\tremaining: 2.29s\n",
      "511:\tlearn: 54.3167396\ttotal: 2.4s\tremaining: 2.29s\n",
      "512:\tlearn: 54.2971082\ttotal: 2.4s\tremaining: 2.28s\n",
      "513:\tlearn: 54.0559680\ttotal: 2.41s\tremaining: 2.28s\n",
      "514:\tlearn: 53.9764981\ttotal: 2.41s\tremaining: 2.27s\n",
      "515:\tlearn: 53.8253490\ttotal: 2.42s\tremaining: 2.27s\n",
      "516:\tlearn: 53.6312894\ttotal: 2.42s\tremaining: 2.26s\n",
      "517:\tlearn: 53.5342085\ttotal: 2.43s\tremaining: 2.26s\n",
      "518:\tlearn: 53.2499317\ttotal: 2.43s\tremaining: 2.25s\n",
      "519:\tlearn: 53.1033744\ttotal: 2.43s\tremaining: 2.25s\n",
      "520:\tlearn: 52.8626853\ttotal: 2.44s\tremaining: 2.24s\n",
      "521:\tlearn: 52.7817186\ttotal: 2.44s\tremaining: 2.23s\n",
      "522:\tlearn: 52.7651992\ttotal: 2.44s\tremaining: 2.23s\n",
      "523:\tlearn: 52.6289913\ttotal: 2.44s\tremaining: 2.22s\n",
      "524:\tlearn: 52.6009336\ttotal: 2.45s\tremaining: 2.21s\n",
      "525:\tlearn: 52.5576378\ttotal: 2.46s\tremaining: 2.21s\n",
      "526:\tlearn: 52.4835712\ttotal: 2.46s\tremaining: 2.21s\n",
      "527:\tlearn: 52.3780330\ttotal: 2.47s\tremaining: 2.21s\n",
      "528:\tlearn: 52.2051334\ttotal: 2.47s\tremaining: 2.2s\n",
      "529:\tlearn: 51.9691542\ttotal: 2.47s\tremaining: 2.19s\n",
      "530:\tlearn: 51.9322199\ttotal: 2.48s\tremaining: 2.19s\n",
      "531:\tlearn: 51.8473622\ttotal: 2.48s\tremaining: 2.18s\n",
      "532:\tlearn: 51.6215247\ttotal: 2.48s\tremaining: 2.17s\n",
      "533:\tlearn: 51.5168229\ttotal: 2.49s\tremaining: 2.17s\n",
      "534:\tlearn: 51.3149548\ttotal: 2.49s\tremaining: 2.16s\n",
      "535:\tlearn: 51.1460318\ttotal: 2.49s\tremaining: 2.16s\n",
      "536:\tlearn: 51.0278618\ttotal: 2.5s\tremaining: 2.15s\n",
      "537:\tlearn: 50.9414557\ttotal: 2.5s\tremaining: 2.15s\n",
      "538:\tlearn: 50.7710689\ttotal: 2.5s\tremaining: 2.14s\n",
      "539:\tlearn: 50.4765837\ttotal: 2.5s\tremaining: 2.13s\n",
      "540:\tlearn: 50.2411999\ttotal: 2.51s\tremaining: 2.13s\n",
      "541:\tlearn: 50.0734727\ttotal: 2.51s\tremaining: 2.12s\n",
      "542:\tlearn: 49.9121027\ttotal: 2.51s\tremaining: 2.11s\n",
      "543:\tlearn: 49.7839578\ttotal: 2.52s\tremaining: 2.11s\n",
      "544:\tlearn: 49.6584816\ttotal: 2.52s\tremaining: 2.1s\n",
      "545:\tlearn: 49.5518557\ttotal: 2.52s\tremaining: 2.1s\n",
      "546:\tlearn: 49.3767493\ttotal: 2.52s\tremaining: 2.09s\n",
      "547:\tlearn: 49.2841482\ttotal: 2.53s\tremaining: 2.08s\n",
      "548:\tlearn: 49.2047112\ttotal: 2.53s\tremaining: 2.08s\n",
      "549:\tlearn: 49.1398438\ttotal: 2.53s\tremaining: 2.07s\n",
      "550:\tlearn: 49.0013752\ttotal: 2.54s\tremaining: 2.07s\n",
      "551:\tlearn: 48.9276152\ttotal: 2.54s\tremaining: 2.06s\n",
      "552:\tlearn: 48.8197821\ttotal: 2.54s\tremaining: 2.06s\n",
      "553:\tlearn: 48.6397126\ttotal: 2.55s\tremaining: 2.05s\n",
      "554:\tlearn: 48.5383864\ttotal: 2.55s\tremaining: 2.04s\n",
      "555:\tlearn: 48.3612906\ttotal: 2.55s\tremaining: 2.04s\n",
      "556:\tlearn: 48.2626120\ttotal: 2.56s\tremaining: 2.03s\n",
      "557:\tlearn: 48.1048692\ttotal: 2.56s\tremaining: 2.03s\n",
      "558:\tlearn: 47.9522624\ttotal: 2.56s\tremaining: 2.02s\n",
      "559:\tlearn: 47.7655494\ttotal: 2.56s\tremaining: 2.02s\n",
      "560:\tlearn: 47.7495374\ttotal: 2.57s\tremaining: 2.01s\n",
      "561:\tlearn: 47.6712863\ttotal: 2.57s\tremaining: 2s\n",
      "562:\tlearn: 47.5509300\ttotal: 2.58s\tremaining: 2s\n",
      "563:\tlearn: 47.4869786\ttotal: 2.58s\tremaining: 1.99s\n",
      "564:\tlearn: 47.3097201\ttotal: 2.58s\tremaining: 1.99s\n",
      "565:\tlearn: 47.1516232\ttotal: 2.59s\tremaining: 1.98s\n",
      "566:\tlearn: 46.8889848\ttotal: 2.59s\tremaining: 1.98s\n",
      "567:\tlearn: 46.8738400\ttotal: 2.6s\tremaining: 1.98s\n",
      "568:\tlearn: 46.6716266\ttotal: 2.6s\tremaining: 1.97s\n",
      "569:\tlearn: 46.5559661\ttotal: 2.6s\tremaining: 1.97s\n",
      "570:\tlearn: 46.3015517\ttotal: 2.61s\tremaining: 1.96s\n",
      "571:\tlearn: 46.2807497\ttotal: 2.61s\tremaining: 1.96s\n",
      "572:\tlearn: 46.1664410\ttotal: 2.62s\tremaining: 1.95s\n",
      "573:\tlearn: 46.1032504\ttotal: 2.62s\tremaining: 1.94s\n",
      "574:\tlearn: 45.9513400\ttotal: 2.62s\tremaining: 1.94s\n",
      "575:\tlearn: 45.8895425\ttotal: 2.63s\tremaining: 1.93s\n",
      "576:\tlearn: 45.7002930\ttotal: 2.63s\tremaining: 1.93s\n",
      "577:\tlearn: 45.5630915\ttotal: 2.63s\tremaining: 1.92s\n",
      "578:\tlearn: 45.4302593\ttotal: 2.63s\tremaining: 1.92s\n",
      "579:\tlearn: 45.2180026\ttotal: 2.64s\tremaining: 1.91s\n",
      "580:\tlearn: 45.1294003\ttotal: 2.64s\tremaining: 1.91s\n",
      "581:\tlearn: 44.9664964\ttotal: 2.65s\tremaining: 1.9s\n",
      "582:\tlearn: 44.8566391\ttotal: 2.65s\tremaining: 1.89s\n",
      "583:\tlearn: 44.7131751\ttotal: 2.65s\tremaining: 1.89s\n",
      "584:\tlearn: 44.6159289\ttotal: 2.65s\tremaining: 1.88s\n",
      "585:\tlearn: 44.5006818\ttotal: 2.66s\tremaining: 1.88s\n",
      "586:\tlearn: 44.4021062\ttotal: 2.66s\tremaining: 1.87s\n",
      "587:\tlearn: 44.3123457\ttotal: 2.66s\tremaining: 1.87s\n",
      "588:\tlearn: 44.2440037\ttotal: 2.67s\tremaining: 1.86s\n",
      "589:\tlearn: 44.0662552\ttotal: 2.67s\tremaining: 1.85s\n",
      "590:\tlearn: 43.9252400\ttotal: 2.67s\tremaining: 1.85s\n",
      "591:\tlearn: 43.9123872\ttotal: 2.67s\tremaining: 1.84s\n",
      "592:\tlearn: 43.7271377\ttotal: 2.68s\tremaining: 1.84s\n",
      "593:\tlearn: 43.6579572\ttotal: 2.68s\tremaining: 1.83s\n",
      "594:\tlearn: 43.5287053\ttotal: 2.68s\tremaining: 1.83s\n",
      "595:\tlearn: 43.3422045\ttotal: 2.69s\tremaining: 1.82s\n",
      "596:\tlearn: 43.1812191\ttotal: 2.69s\tremaining: 1.82s\n",
      "597:\tlearn: 43.0712136\ttotal: 2.69s\tremaining: 1.81s\n",
      "598:\tlearn: 42.9020614\ttotal: 2.7s\tremaining: 1.8s\n",
      "599:\tlearn: 42.8494029\ttotal: 2.7s\tremaining: 1.8s\n",
      "600:\tlearn: 42.6766724\ttotal: 2.71s\tremaining: 1.8s\n",
      "601:\tlearn: 42.5909059\ttotal: 2.71s\tremaining: 1.79s\n",
      "602:\tlearn: 42.5035042\ttotal: 2.71s\tremaining: 1.79s\n",
      "603:\tlearn: 42.3919049\ttotal: 2.72s\tremaining: 1.78s\n",
      "604:\tlearn: 42.3041748\ttotal: 2.72s\tremaining: 1.78s\n",
      "605:\tlearn: 42.0962618\ttotal: 2.72s\tremaining: 1.77s\n",
      "606:\tlearn: 42.0212513\ttotal: 2.73s\tremaining: 1.76s\n",
      "607:\tlearn: 41.9518333\ttotal: 2.73s\tremaining: 1.76s\n",
      "608:\tlearn: 41.8287311\ttotal: 2.73s\tremaining: 1.75s\n",
      "609:\tlearn: 41.8171487\ttotal: 2.74s\tremaining: 1.75s\n",
      "610:\tlearn: 41.6803529\ttotal: 2.74s\tremaining: 1.74s\n",
      "611:\tlearn: 41.5987342\ttotal: 2.74s\tremaining: 1.74s\n",
      "612:\tlearn: 41.5559610\ttotal: 2.75s\tremaining: 1.73s\n",
      "613:\tlearn: 41.5438522\ttotal: 2.75s\tremaining: 1.73s\n",
      "614:\tlearn: 41.4276290\ttotal: 2.75s\tremaining: 1.72s\n",
      "615:\tlearn: 41.2832318\ttotal: 2.76s\tremaining: 1.72s\n",
      "616:\tlearn: 41.0528461\ttotal: 2.76s\tremaining: 1.71s\n",
      "617:\tlearn: 40.8675188\ttotal: 2.77s\tremaining: 1.71s\n",
      "618:\tlearn: 40.7965616\ttotal: 2.77s\tremaining: 1.7s\n",
      "619:\tlearn: 40.6943396\ttotal: 2.77s\tremaining: 1.7s\n",
      "620:\tlearn: 40.4841510\ttotal: 2.78s\tremaining: 1.69s\n",
      "621:\tlearn: 40.4156398\ttotal: 2.78s\tremaining: 1.69s\n",
      "622:\tlearn: 40.4054860\ttotal: 2.79s\tremaining: 1.69s\n",
      "623:\tlearn: 40.2993499\ttotal: 2.79s\tremaining: 1.68s\n",
      "624:\tlearn: 40.2282585\ttotal: 2.79s\tremaining: 1.68s\n",
      "625:\tlearn: 40.1300810\ttotal: 2.8s\tremaining: 1.67s\n",
      "626:\tlearn: 39.9375131\ttotal: 2.8s\tremaining: 1.67s\n",
      "627:\tlearn: 39.8456650\ttotal: 2.81s\tremaining: 1.66s\n",
      "628:\tlearn: 39.7787020\ttotal: 2.81s\tremaining: 1.66s\n",
      "629:\tlearn: 39.7646136\ttotal: 2.81s\tremaining: 1.65s\n",
      "630:\tlearn: 39.6423910\ttotal: 2.82s\tremaining: 1.65s\n",
      "631:\tlearn: 39.5746563\ttotal: 2.82s\tremaining: 1.64s\n",
      "632:\tlearn: 39.4889089\ttotal: 2.82s\tremaining: 1.64s\n",
      "633:\tlearn: 39.2988969\ttotal: 2.83s\tremaining: 1.63s\n",
      "634:\tlearn: 39.2103963\ttotal: 2.83s\tremaining: 1.63s\n",
      "635:\tlearn: 39.1312891\ttotal: 2.83s\tremaining: 1.62s\n",
      "636:\tlearn: 39.0922168\ttotal: 2.84s\tremaining: 1.62s\n",
      "637:\tlearn: 39.0663395\ttotal: 2.84s\tremaining: 1.61s\n",
      "638:\tlearn: 38.9515004\ttotal: 2.85s\tremaining: 1.61s\n",
      "639:\tlearn: 38.7925904\ttotal: 2.85s\tremaining: 1.6s\n",
      "640:\tlearn: 38.6212996\ttotal: 2.86s\tremaining: 1.6s\n",
      "641:\tlearn: 38.5422255\ttotal: 2.86s\tremaining: 1.59s\n",
      "642:\tlearn: 38.3626061\ttotal: 2.86s\tremaining: 1.59s\n",
      "643:\tlearn: 38.2562515\ttotal: 2.87s\tremaining: 1.59s\n",
      "644:\tlearn: 38.1876577\ttotal: 2.87s\tremaining: 1.58s\n",
      "645:\tlearn: 38.0736888\ttotal: 2.88s\tremaining: 1.58s\n",
      "646:\tlearn: 38.0651144\ttotal: 2.88s\tremaining: 1.57s\n",
      "647:\tlearn: 38.0159853\ttotal: 2.89s\tremaining: 1.57s\n",
      "648:\tlearn: 37.9190834\ttotal: 2.89s\tremaining: 1.56s\n",
      "649:\tlearn: 37.7804717\ttotal: 2.9s\tremaining: 1.56s\n",
      "650:\tlearn: 37.6118237\ttotal: 2.9s\tremaining: 1.55s\n",
      "651:\tlearn: 37.5995820\ttotal: 2.9s\tremaining: 1.55s\n",
      "652:\tlearn: 37.4405167\ttotal: 2.91s\tremaining: 1.55s\n",
      "653:\tlearn: 37.3410928\ttotal: 2.91s\tremaining: 1.54s\n",
      "654:\tlearn: 37.2774136\ttotal: 2.92s\tremaining: 1.54s\n",
      "655:\tlearn: 37.1688459\ttotal: 2.92s\tremaining: 1.53s\n",
      "656:\tlearn: 36.9834982\ttotal: 2.92s\tremaining: 1.53s\n",
      "657:\tlearn: 36.8941573\ttotal: 2.93s\tremaining: 1.52s\n",
      "658:\tlearn: 36.8466141\ttotal: 2.93s\tremaining: 1.52s\n",
      "659:\tlearn: 36.7464594\ttotal: 2.94s\tremaining: 1.51s\n",
      "660:\tlearn: 36.7105566\ttotal: 2.94s\tremaining: 1.51s\n",
      "661:\tlearn: 36.6970798\ttotal: 2.95s\tremaining: 1.51s\n",
      "662:\tlearn: 36.6632516\ttotal: 2.96s\tremaining: 1.5s\n",
      "663:\tlearn: 36.5542651\ttotal: 2.96s\tremaining: 1.5s\n",
      "664:\tlearn: 36.5203933\ttotal: 2.97s\tremaining: 1.5s\n",
      "665:\tlearn: 36.4224090\ttotal: 2.98s\tremaining: 1.49s\n",
      "666:\tlearn: 36.3316031\ttotal: 2.98s\tremaining: 1.49s\n",
      "667:\tlearn: 36.2186628\ttotal: 2.99s\tremaining: 1.49s\n",
      "668:\tlearn: 36.1338501\ttotal: 3s\tremaining: 1.48s\n",
      "669:\tlearn: 36.1213124\ttotal: 3s\tremaining: 1.48s\n",
      "670:\tlearn: 36.0942637\ttotal: 3s\tremaining: 1.47s\n",
      "671:\tlearn: 35.9752804\ttotal: 3.01s\tremaining: 1.47s\n",
      "672:\tlearn: 35.8350770\ttotal: 3.02s\tremaining: 1.46s\n",
      "673:\tlearn: 35.7896568\ttotal: 3.02s\tremaining: 1.46s\n",
      "674:\tlearn: 35.6900949\ttotal: 3.02s\tremaining: 1.46s\n",
      "675:\tlearn: 35.6781855\ttotal: 3.03s\tremaining: 1.45s\n",
      "676:\tlearn: 35.5352914\ttotal: 3.03s\tremaining: 1.45s\n",
      "677:\tlearn: 35.3796750\ttotal: 3.04s\tremaining: 1.44s\n",
      "678:\tlearn: 35.2840198\ttotal: 3.04s\tremaining: 1.44s\n",
      "679:\tlearn: 35.1084001\ttotal: 3.05s\tremaining: 1.43s\n",
      "680:\tlearn: 34.9831055\ttotal: 3.05s\tremaining: 1.43s\n",
      "681:\tlearn: 34.9550549\ttotal: 3.05s\tremaining: 1.42s\n",
      "682:\tlearn: 34.8421301\ttotal: 3.06s\tremaining: 1.42s\n",
      "683:\tlearn: 34.7847218\ttotal: 3.06s\tremaining: 1.42s\n",
      "684:\tlearn: 34.6661194\ttotal: 3.07s\tremaining: 1.41s\n",
      "685:\tlearn: 34.5206115\ttotal: 3.07s\tremaining: 1.41s\n",
      "686:\tlearn: 34.3363549\ttotal: 3.08s\tremaining: 1.4s\n",
      "687:\tlearn: 34.2921866\ttotal: 3.08s\tremaining: 1.4s\n",
      "688:\tlearn: 34.2186468\ttotal: 3.09s\tremaining: 1.39s\n",
      "689:\tlearn: 34.1130309\ttotal: 3.09s\tremaining: 1.39s\n",
      "690:\tlearn: 33.9796618\ttotal: 3.09s\tremaining: 1.38s\n",
      "691:\tlearn: 33.8976046\ttotal: 3.1s\tremaining: 1.38s\n",
      "692:\tlearn: 33.7667016\ttotal: 3.1s\tremaining: 1.37s\n",
      "693:\tlearn: 33.6996451\ttotal: 3.1s\tremaining: 1.37s\n",
      "694:\tlearn: 33.5801149\ttotal: 3.11s\tremaining: 1.36s\n",
      "695:\tlearn: 33.5683726\ttotal: 3.11s\tremaining: 1.36s\n",
      "696:\tlearn: 33.5588658\ttotal: 3.11s\tremaining: 1.35s\n",
      "697:\tlearn: 33.4987932\ttotal: 3.12s\tremaining: 1.35s\n",
      "698:\tlearn: 33.4779954\ttotal: 3.12s\tremaining: 1.34s\n",
      "699:\tlearn: 33.3978741\ttotal: 3.12s\tremaining: 1.34s\n",
      "700:\tlearn: 33.3464483\ttotal: 3.13s\tremaining: 1.33s\n",
      "701:\tlearn: 33.2192645\ttotal: 3.13s\tremaining: 1.33s\n",
      "702:\tlearn: 33.1216235\ttotal: 3.13s\tremaining: 1.32s\n",
      "703:\tlearn: 33.0953365\ttotal: 3.13s\tremaining: 1.32s\n",
      "704:\tlearn: 33.0225441\ttotal: 3.14s\tremaining: 1.31s\n",
      "705:\tlearn: 32.9741575\ttotal: 3.14s\tremaining: 1.31s\n",
      "706:\tlearn: 32.9430182\ttotal: 3.15s\tremaining: 1.3s\n",
      "707:\tlearn: 32.9324244\ttotal: 3.15s\tremaining: 1.3s\n",
      "708:\tlearn: 32.7986912\ttotal: 3.15s\tremaining: 1.29s\n",
      "709:\tlearn: 32.7344328\ttotal: 3.16s\tremaining: 1.29s\n",
      "710:\tlearn: 32.6706878\ttotal: 3.16s\tremaining: 1.29s\n",
      "711:\tlearn: 32.6514498\ttotal: 3.17s\tremaining: 1.28s\n",
      "712:\tlearn: 32.4995698\ttotal: 3.17s\tremaining: 1.28s\n",
      "713:\tlearn: 32.3787153\ttotal: 3.18s\tremaining: 1.27s\n",
      "714:\tlearn: 32.2936690\ttotal: 3.18s\tremaining: 1.27s\n",
      "715:\tlearn: 32.2102081\ttotal: 3.19s\tremaining: 1.26s\n",
      "716:\tlearn: 32.1227559\ttotal: 3.19s\tremaining: 1.26s\n",
      "717:\tlearn: 31.9897433\ttotal: 3.19s\tremaining: 1.25s\n",
      "718:\tlearn: 31.8744743\ttotal: 3.19s\tremaining: 1.25s\n",
      "719:\tlearn: 31.8231586\ttotal: 3.2s\tremaining: 1.24s\n",
      "720:\tlearn: 31.7086556\ttotal: 3.2s\tremaining: 1.24s\n",
      "721:\tlearn: 31.6201260\ttotal: 3.2s\tremaining: 1.23s\n",
      "722:\tlearn: 31.5754954\ttotal: 3.21s\tremaining: 1.23s\n",
      "723:\tlearn: 31.5333320\ttotal: 3.21s\tremaining: 1.22s\n",
      "724:\tlearn: 31.4916167\ttotal: 3.21s\tremaining: 1.22s\n",
      "725:\tlearn: 31.3467153\ttotal: 3.22s\tremaining: 1.21s\n",
      "726:\tlearn: 31.2557717\ttotal: 3.22s\tremaining: 1.21s\n",
      "727:\tlearn: 31.1745424\ttotal: 3.22s\tremaining: 1.2s\n",
      "728:\tlearn: 31.0655934\ttotal: 3.23s\tremaining: 1.2s\n",
      "729:\tlearn: 30.9942834\ttotal: 3.23s\tremaining: 1.19s\n",
      "730:\tlearn: 30.9760118\ttotal: 3.23s\tremaining: 1.19s\n",
      "731:\tlearn: 30.8472772\ttotal: 3.23s\tremaining: 1.18s\n",
      "732:\tlearn: 30.7819695\ttotal: 3.24s\tremaining: 1.18s\n",
      "733:\tlearn: 30.6756328\ttotal: 3.24s\tremaining: 1.17s\n",
      "734:\tlearn: 30.5750375\ttotal: 3.24s\tremaining: 1.17s\n",
      "735:\tlearn: 30.5068991\ttotal: 3.25s\tremaining: 1.16s\n",
      "736:\tlearn: 30.4667235\ttotal: 3.25s\tremaining: 1.16s\n",
      "737:\tlearn: 30.4205244\ttotal: 3.25s\tremaining: 1.15s\n",
      "738:\tlearn: 30.3839883\ttotal: 3.25s\tremaining: 1.15s\n",
      "739:\tlearn: 30.2867477\ttotal: 3.26s\tremaining: 1.14s\n",
      "740:\tlearn: 30.2164652\ttotal: 3.26s\tremaining: 1.14s\n",
      "741:\tlearn: 30.2074856\ttotal: 3.26s\tremaining: 1.13s\n",
      "742:\tlearn: 30.0924439\ttotal: 3.27s\tremaining: 1.13s\n",
      "743:\tlearn: 29.9814451\ttotal: 3.27s\tremaining: 1.13s\n",
      "744:\tlearn: 29.9016403\ttotal: 3.27s\tremaining: 1.12s\n",
      "745:\tlearn: 29.7767934\ttotal: 3.28s\tremaining: 1.11s\n",
      "746:\tlearn: 29.7701871\ttotal: 3.28s\tremaining: 1.11s\n",
      "747:\tlearn: 29.7407778\ttotal: 3.28s\tremaining: 1.1s\n",
      "748:\tlearn: 29.6623980\ttotal: 3.29s\tremaining: 1.1s\n",
      "749:\tlearn: 29.6527231\ttotal: 3.29s\tremaining: 1.09s\n",
      "750:\tlearn: 29.5483103\ttotal: 3.29s\tremaining: 1.09s\n",
      "751:\tlearn: 29.4711020\ttotal: 3.29s\tremaining: 1.09s\n",
      "752:\tlearn: 29.3827091\ttotal: 3.3s\tremaining: 1.08s\n",
      "753:\tlearn: 29.3471097\ttotal: 3.3s\tremaining: 1.08s\n",
      "754:\tlearn: 29.3108971\ttotal: 3.3s\tremaining: 1.07s\n",
      "755:\tlearn: 29.2241146\ttotal: 3.31s\tremaining: 1.07s\n",
      "756:\tlearn: 29.1423254\ttotal: 3.31s\tremaining: 1.06s\n",
      "757:\tlearn: 29.0588422\ttotal: 3.31s\tremaining: 1.06s\n",
      "758:\tlearn: 28.9549011\ttotal: 3.31s\tremaining: 1.05s\n",
      "759:\tlearn: 28.8785263\ttotal: 3.32s\tremaining: 1.05s\n",
      "760:\tlearn: 28.7910290\ttotal: 3.32s\tremaining: 1.04s\n",
      "761:\tlearn: 28.7812132\ttotal: 3.32s\tremaining: 1.04s\n",
      "762:\tlearn: 28.7183433\ttotal: 3.33s\tremaining: 1.03s\n",
      "763:\tlearn: 28.6646690\ttotal: 3.33s\tremaining: 1.03s\n",
      "764:\tlearn: 28.5859956\ttotal: 3.34s\tremaining: 1.02s\n",
      "765:\tlearn: 28.5724935\ttotal: 3.34s\tremaining: 1.02s\n",
      "766:\tlearn: 28.5593967\ttotal: 3.35s\tremaining: 1.02s\n",
      "767:\tlearn: 28.5515856\ttotal: 3.35s\tremaining: 1.01s\n",
      "768:\tlearn: 28.4920718\ttotal: 3.36s\tremaining: 1.01s\n",
      "769:\tlearn: 28.4814750\ttotal: 3.36s\tremaining: 1s\n",
      "770:\tlearn: 28.3933763\ttotal: 3.36s\tremaining: 999ms\n",
      "771:\tlearn: 28.3567968\ttotal: 3.37s\tremaining: 995ms\n",
      "772:\tlearn: 28.3063588\ttotal: 3.37s\tremaining: 990ms\n",
      "773:\tlearn: 28.2855992\ttotal: 3.38s\tremaining: 986ms\n",
      "774:\tlearn: 28.2179235\ttotal: 3.38s\tremaining: 982ms\n",
      "775:\tlearn: 28.2093613\ttotal: 3.39s\tremaining: 978ms\n",
      "776:\tlearn: 28.0835834\ttotal: 3.39s\tremaining: 974ms\n",
      "777:\tlearn: 27.9855930\ttotal: 3.4s\tremaining: 970ms\n",
      "778:\tlearn: 27.9043686\ttotal: 3.4s\tremaining: 965ms\n",
      "779:\tlearn: 27.7729635\ttotal: 3.41s\tremaining: 962ms\n",
      "780:\tlearn: 27.6831134\ttotal: 3.41s\tremaining: 958ms\n",
      "781:\tlearn: 27.6060954\ttotal: 3.42s\tremaining: 953ms\n",
      "782:\tlearn: 27.5138640\ttotal: 3.42s\tremaining: 949ms\n",
      "783:\tlearn: 27.4058241\ttotal: 3.43s\tremaining: 945ms\n",
      "784:\tlearn: 27.3353937\ttotal: 3.43s\tremaining: 941ms\n",
      "785:\tlearn: 27.2510149\ttotal: 3.44s\tremaining: 936ms\n",
      "786:\tlearn: 27.2389070\ttotal: 3.44s\tremaining: 932ms\n",
      "787:\tlearn: 27.1760896\ttotal: 3.45s\tremaining: 927ms\n",
      "788:\tlearn: 27.1136348\ttotal: 3.45s\tremaining: 923ms\n",
      "789:\tlearn: 27.0215487\ttotal: 3.45s\tremaining: 918ms\n",
      "790:\tlearn: 26.9455585\ttotal: 3.46s\tremaining: 914ms\n",
      "791:\tlearn: 26.8888690\ttotal: 3.46s\tremaining: 909ms\n",
      "792:\tlearn: 26.8177272\ttotal: 3.47s\tremaining: 905ms\n",
      "793:\tlearn: 26.6823791\ttotal: 3.47s\tremaining: 901ms\n",
      "794:\tlearn: 26.6648020\ttotal: 3.48s\tremaining: 896ms\n",
      "795:\tlearn: 26.5699052\ttotal: 3.48s\tremaining: 892ms\n",
      "796:\tlearn: 26.4990171\ttotal: 3.48s\tremaining: 888ms\n",
      "797:\tlearn: 26.3807253\ttotal: 3.49s\tremaining: 884ms\n",
      "798:\tlearn: 26.2625829\ttotal: 3.5s\tremaining: 879ms\n",
      "799:\tlearn: 26.2042817\ttotal: 3.5s\tremaining: 875ms\n",
      "800:\tlearn: 26.0901618\ttotal: 3.5s\tremaining: 871ms\n",
      "801:\tlearn: 26.0841441\ttotal: 3.51s\tremaining: 866ms\n",
      "802:\tlearn: 26.0103222\ttotal: 3.52s\tremaining: 863ms\n",
      "803:\tlearn: 25.9439176\ttotal: 3.52s\tremaining: 859ms\n",
      "804:\tlearn: 25.9337924\ttotal: 3.53s\tremaining: 854ms\n",
      "805:\tlearn: 25.8698837\ttotal: 3.53s\tremaining: 850ms\n",
      "806:\tlearn: 25.7736206\ttotal: 3.55s\tremaining: 848ms\n",
      "807:\tlearn: 25.7666495\ttotal: 3.56s\tremaining: 845ms\n",
      "808:\tlearn: 25.6818814\ttotal: 3.56s\tremaining: 841ms\n",
      "809:\tlearn: 25.5916713\ttotal: 3.57s\tremaining: 836ms\n",
      "810:\tlearn: 25.5042759\ttotal: 3.57s\tremaining: 832ms\n",
      "811:\tlearn: 25.4367313\ttotal: 3.58s\tremaining: 828ms\n",
      "812:\tlearn: 25.4266928\ttotal: 3.58s\tremaining: 824ms\n",
      "813:\tlearn: 25.4143481\ttotal: 3.59s\tremaining: 820ms\n",
      "814:\tlearn: 25.3266005\ttotal: 3.6s\tremaining: 816ms\n",
      "815:\tlearn: 25.3032659\ttotal: 3.6s\tremaining: 812ms\n",
      "816:\tlearn: 25.2162391\ttotal: 3.61s\tremaining: 808ms\n",
      "817:\tlearn: 25.1643241\ttotal: 3.61s\tremaining: 804ms\n",
      "818:\tlearn: 25.1023429\ttotal: 3.62s\tremaining: 800ms\n",
      "819:\tlearn: 25.0203484\ttotal: 3.62s\tremaining: 795ms\n",
      "820:\tlearn: 24.9037533\ttotal: 3.63s\tremaining: 791ms\n",
      "821:\tlearn: 24.8110632\ttotal: 3.63s\tremaining: 787ms\n",
      "822:\tlearn: 24.7627473\ttotal: 3.64s\tremaining: 782ms\n",
      "823:\tlearn: 24.7167744\ttotal: 3.65s\tremaining: 779ms\n",
      "824:\tlearn: 24.6950623\ttotal: 3.65s\tremaining: 774ms\n",
      "825:\tlearn: 24.6097453\ttotal: 3.65s\tremaining: 770ms\n",
      "826:\tlearn: 24.5312455\ttotal: 3.66s\tremaining: 766ms\n",
      "827:\tlearn: 24.4533042\ttotal: 3.66s\tremaining: 761ms\n",
      "828:\tlearn: 24.4372328\ttotal: 3.67s\tremaining: 757ms\n",
      "829:\tlearn: 24.4294797\ttotal: 3.67s\tremaining: 753ms\n",
      "830:\tlearn: 24.4234320\ttotal: 3.68s\tremaining: 748ms\n",
      "831:\tlearn: 24.3945651\ttotal: 3.68s\tremaining: 744ms\n",
      "832:\tlearn: 24.3087167\ttotal: 3.69s\tremaining: 739ms\n",
      "833:\tlearn: 24.2990702\ttotal: 3.69s\tremaining: 735ms\n",
      "834:\tlearn: 24.1850688\ttotal: 3.7s\tremaining: 730ms\n",
      "835:\tlearn: 24.1249255\ttotal: 3.7s\tremaining: 726ms\n",
      "836:\tlearn: 24.0303953\ttotal: 3.71s\tremaining: 722ms\n",
      "837:\tlearn: 23.9320522\ttotal: 3.71s\tremaining: 718ms\n",
      "838:\tlearn: 23.8433657\ttotal: 3.72s\tremaining: 713ms\n",
      "839:\tlearn: 23.7584083\ttotal: 3.72s\tremaining: 709ms\n",
      "840:\tlearn: 23.7473843\ttotal: 3.73s\tremaining: 704ms\n",
      "841:\tlearn: 23.6652432\ttotal: 3.73s\tremaining: 700ms\n",
      "842:\tlearn: 23.6051400\ttotal: 3.73s\tremaining: 696ms\n",
      "843:\tlearn: 23.5519547\ttotal: 3.74s\tremaining: 691ms\n",
      "844:\tlearn: 23.5011313\ttotal: 3.74s\tremaining: 687ms\n",
      "845:\tlearn: 23.4300551\ttotal: 3.75s\tremaining: 682ms\n",
      "846:\tlearn: 23.4167431\ttotal: 3.75s\tremaining: 678ms\n",
      "847:\tlearn: 23.3451853\ttotal: 3.76s\tremaining: 674ms\n",
      "848:\tlearn: 23.2659363\ttotal: 3.76s\tremaining: 669ms\n",
      "849:\tlearn: 23.1874296\ttotal: 3.77s\tremaining: 665ms\n",
      "850:\tlearn: 23.0961375\ttotal: 3.77s\tremaining: 660ms\n",
      "851:\tlearn: 23.0088004\ttotal: 3.77s\tremaining: 656ms\n",
      "852:\tlearn: 22.9815413\ttotal: 3.78s\tremaining: 651ms\n",
      "853:\tlearn: 22.9543414\ttotal: 3.78s\tremaining: 646ms\n",
      "854:\tlearn: 22.8738064\ttotal: 3.79s\tremaining: 642ms\n",
      "855:\tlearn: 22.8244084\ttotal: 3.79s\tremaining: 638ms\n",
      "856:\tlearn: 22.7290161\ttotal: 3.79s\tremaining: 633ms\n",
      "857:\tlearn: 22.6934775\ttotal: 3.8s\tremaining: 629ms\n",
      "858:\tlearn: 22.6204792\ttotal: 3.81s\tremaining: 626ms\n",
      "859:\tlearn: 22.5307428\ttotal: 3.82s\tremaining: 622ms\n",
      "860:\tlearn: 22.5119995\ttotal: 3.89s\tremaining: 628ms\n",
      "861:\tlearn: 22.4050458\ttotal: 3.9s\tremaining: 625ms\n",
      "862:\tlearn: 22.3791310\ttotal: 3.91s\tremaining: 621ms\n",
      "863:\tlearn: 22.3159963\ttotal: 3.92s\tremaining: 617ms\n",
      "864:\tlearn: 22.2857938\ttotal: 3.93s\tremaining: 613ms\n",
      "865:\tlearn: 22.2281263\ttotal: 3.94s\tremaining: 609ms\n",
      "866:\tlearn: 22.1780390\ttotal: 3.95s\tremaining: 605ms\n",
      "867:\tlearn: 22.1258881\ttotal: 3.96s\tremaining: 602ms\n",
      "868:\tlearn: 22.0584704\ttotal: 3.96s\tremaining: 598ms\n",
      "869:\tlearn: 21.9922998\ttotal: 3.98s\tremaining: 594ms\n",
      "870:\tlearn: 21.9554660\ttotal: 3.99s\tremaining: 590ms\n",
      "871:\tlearn: 21.8645106\ttotal: 3.99s\tremaining: 586ms\n",
      "872:\tlearn: 21.8179708\ttotal: 4s\tremaining: 582ms\n",
      "873:\tlearn: 21.8115487\ttotal: 4.01s\tremaining: 578ms\n",
      "874:\tlearn: 21.7887917\ttotal: 4.03s\tremaining: 575ms\n",
      "875:\tlearn: 21.7498077\ttotal: 4.04s\tremaining: 572ms\n",
      "876:\tlearn: 21.6454131\ttotal: 4.05s\tremaining: 568ms\n",
      "877:\tlearn: 21.5545336\ttotal: 4.06s\tremaining: 564ms\n",
      "878:\tlearn: 21.4764453\ttotal: 4.07s\tremaining: 561ms\n",
      "879:\tlearn: 21.4533280\ttotal: 4.09s\tremaining: 557ms\n",
      "880:\tlearn: 21.3744320\ttotal: 4.11s\tremaining: 555ms\n",
      "881:\tlearn: 21.3533869\ttotal: 4.11s\tremaining: 550ms\n",
      "882:\tlearn: 21.2667609\ttotal: 4.12s\tremaining: 546ms\n",
      "883:\tlearn: 21.1899067\ttotal: 4.13s\tremaining: 542ms\n",
      "884:\tlearn: 21.0985781\ttotal: 4.13s\tremaining: 537ms\n",
      "885:\tlearn: 21.0328930\ttotal: 4.14s\tremaining: 533ms\n",
      "886:\tlearn: 20.9620190\ttotal: 4.15s\tremaining: 529ms\n",
      "887:\tlearn: 20.8832138\ttotal: 4.17s\tremaining: 526ms\n",
      "888:\tlearn: 20.8285994\ttotal: 4.22s\tremaining: 527ms\n",
      "889:\tlearn: 20.7617541\ttotal: 4.22s\tremaining: 522ms\n",
      "890:\tlearn: 20.6715545\ttotal: 4.23s\tremaining: 518ms\n",
      "891:\tlearn: 20.6273578\ttotal: 4.25s\tremaining: 514ms\n",
      "892:\tlearn: 20.5663521\ttotal: 4.25s\tremaining: 510ms\n",
      "893:\tlearn: 20.4938237\ttotal: 4.27s\tremaining: 506ms\n",
      "894:\tlearn: 20.4875685\ttotal: 4.28s\tremaining: 502ms\n",
      "895:\tlearn: 20.4388605\ttotal: 4.29s\tremaining: 498ms\n",
      "896:\tlearn: 20.3768837\ttotal: 4.31s\tremaining: 495ms\n",
      "897:\tlearn: 20.3351216\ttotal: 4.32s\tremaining: 490ms\n",
      "898:\tlearn: 20.2587437\ttotal: 4.33s\tremaining: 486ms\n",
      "899:\tlearn: 20.1973876\ttotal: 4.33s\tremaining: 481ms\n",
      "900:\tlearn: 20.1401324\ttotal: 4.34s\tremaining: 477ms\n",
      "901:\tlearn: 20.1224754\ttotal: 4.34s\tremaining: 472ms\n",
      "902:\tlearn: 20.0693820\ttotal: 4.35s\tremaining: 468ms\n",
      "903:\tlearn: 20.0646285\ttotal: 4.36s\tremaining: 463ms\n",
      "904:\tlearn: 20.0314756\ttotal: 4.37s\tremaining: 459ms\n",
      "905:\tlearn: 20.0120364\ttotal: 4.38s\tremaining: 454ms\n",
      "906:\tlearn: 19.9390604\ttotal: 4.39s\tremaining: 450ms\n",
      "907:\tlearn: 19.8738031\ttotal: 4.4s\tremaining: 446ms\n",
      "908:\tlearn: 19.8356812\ttotal: 4.41s\tremaining: 441ms\n",
      "909:\tlearn: 19.7850939\ttotal: 4.42s\tremaining: 437ms\n",
      "910:\tlearn: 19.7055416\ttotal: 4.42s\tremaining: 432ms\n",
      "911:\tlearn: 19.6792415\ttotal: 4.44s\tremaining: 428ms\n",
      "912:\tlearn: 19.6127131\ttotal: 4.45s\tremaining: 424ms\n",
      "913:\tlearn: 19.5501011\ttotal: 4.46s\tremaining: 419ms\n",
      "914:\tlearn: 19.4760215\ttotal: 4.46s\tremaining: 415ms\n",
      "915:\tlearn: 19.4397718\ttotal: 4.48s\tremaining: 411ms\n",
      "916:\tlearn: 19.3554361\ttotal: 4.49s\tremaining: 407ms\n",
      "917:\tlearn: 19.3082902\ttotal: 4.5s\tremaining: 402ms\n",
      "918:\tlearn: 19.2694307\ttotal: 4.6s\tremaining: 405ms\n",
      "919:\tlearn: 19.2624055\ttotal: 4.6s\tremaining: 400ms\n",
      "920:\tlearn: 19.2056426\ttotal: 4.61s\tremaining: 396ms\n",
      "921:\tlearn: 19.1372636\ttotal: 4.62s\tremaining: 391ms\n",
      "922:\tlearn: 19.1314661\ttotal: 4.63s\tremaining: 387ms\n",
      "923:\tlearn: 19.0460498\ttotal: 4.64s\tremaining: 382ms\n",
      "924:\tlearn: 18.9746622\ttotal: 4.65s\tremaining: 377ms\n",
      "925:\tlearn: 18.9268614\ttotal: 4.66s\tremaining: 373ms\n",
      "926:\tlearn: 18.8958531\ttotal: 4.67s\tremaining: 368ms\n",
      "927:\tlearn: 18.8383189\ttotal: 4.67s\tremaining: 363ms\n",
      "928:\tlearn: 18.7736478\ttotal: 4.68s\tremaining: 358ms\n",
      "929:\tlearn: 18.7191317\ttotal: 4.71s\tremaining: 354ms\n",
      "930:\tlearn: 18.6684310\ttotal: 4.71s\tremaining: 349ms\n",
      "931:\tlearn: 18.6562924\ttotal: 4.72s\tremaining: 345ms\n",
      "932:\tlearn: 18.6505563\ttotal: 4.73s\tremaining: 339ms\n",
      "933:\tlearn: 18.6444122\ttotal: 4.73s\tremaining: 334ms\n",
      "934:\tlearn: 18.5947307\ttotal: 4.74s\tremaining: 329ms\n",
      "935:\tlearn: 18.5084541\ttotal: 4.75s\tremaining: 325ms\n",
      "936:\tlearn: 18.4931882\ttotal: 4.75s\tremaining: 320ms\n",
      "937:\tlearn: 18.4318948\ttotal: 4.77s\tremaining: 315ms\n",
      "938:\tlearn: 18.3903756\ttotal: 4.78s\tremaining: 311ms\n",
      "939:\tlearn: 18.3556252\ttotal: 4.8s\tremaining: 306ms\n",
      "940:\tlearn: 18.3080388\ttotal: 4.81s\tremaining: 302ms\n",
      "941:\tlearn: 18.2868501\ttotal: 4.82s\tremaining: 297ms\n",
      "942:\tlearn: 18.2486723\ttotal: 4.83s\tremaining: 292ms\n",
      "943:\tlearn: 18.2344329\ttotal: 4.85s\tremaining: 288ms\n",
      "944:\tlearn: 18.1977993\ttotal: 4.85s\tremaining: 283ms\n",
      "945:\tlearn: 18.1261064\ttotal: 4.87s\tremaining: 278ms\n",
      "946:\tlearn: 18.0687518\ttotal: 4.88s\tremaining: 273ms\n",
      "947:\tlearn: 18.0185590\ttotal: 4.91s\tremaining: 270ms\n",
      "948:\tlearn: 18.0097371\ttotal: 4.92s\tremaining: 264ms\n",
      "949:\tlearn: 17.9244718\ttotal: 4.94s\tremaining: 260ms\n",
      "950:\tlearn: 17.8752081\ttotal: 4.95s\tremaining: 255ms\n",
      "951:\tlearn: 17.8031875\ttotal: 4.96s\tremaining: 250ms\n",
      "952:\tlearn: 17.7307203\ttotal: 4.98s\tremaining: 246ms\n",
      "953:\tlearn: 17.6894541\ttotal: 4.99s\tremaining: 241ms\n",
      "954:\tlearn: 17.6205924\ttotal: 5.01s\tremaining: 236ms\n",
      "955:\tlearn: 17.5750093\ttotal: 5.02s\tremaining: 231ms\n",
      "956:\tlearn: 17.5334912\ttotal: 5.04s\tremaining: 226ms\n",
      "957:\tlearn: 17.5158282\ttotal: 5.05s\tremaining: 221ms\n",
      "958:\tlearn: 17.4654199\ttotal: 5.06s\tremaining: 216ms\n",
      "959:\tlearn: 17.4015957\ttotal: 5.07s\tremaining: 211ms\n",
      "960:\tlearn: 17.3976851\ttotal: 5.09s\tremaining: 206ms\n",
      "961:\tlearn: 17.3693448\ttotal: 5.1s\tremaining: 201ms\n",
      "962:\tlearn: 17.3130264\ttotal: 5.11s\tremaining: 196ms\n",
      "963:\tlearn: 17.2283455\ttotal: 5.12s\tremaining: 191ms\n",
      "964:\tlearn: 17.2220608\ttotal: 5.15s\tremaining: 187ms\n",
      "965:\tlearn: 17.2131174\ttotal: 5.15s\tremaining: 181ms\n",
      "966:\tlearn: 17.1701087\ttotal: 5.17s\tremaining: 177ms\n",
      "967:\tlearn: 17.1336007\ttotal: 5.18s\tremaining: 171ms\n",
      "968:\tlearn: 17.0857213\ttotal: 5.19s\tremaining: 166ms\n",
      "969:\tlearn: 17.0263228\ttotal: 5.19s\tremaining: 161ms\n",
      "970:\tlearn: 16.9774322\ttotal: 5.2s\tremaining: 155ms\n",
      "971:\tlearn: 16.9147809\ttotal: 5.21s\tremaining: 150ms\n",
      "972:\tlearn: 16.8616424\ttotal: 5.22s\tremaining: 145ms\n",
      "973:\tlearn: 16.8203774\ttotal: 5.23s\tremaining: 140ms\n",
      "974:\tlearn: 16.7682173\ttotal: 5.24s\tremaining: 134ms\n",
      "975:\tlearn: 16.7602323\ttotal: 5.26s\tremaining: 129ms\n",
      "976:\tlearn: 16.6949995\ttotal: 5.28s\tremaining: 124ms\n",
      "977:\tlearn: 16.6545994\ttotal: 5.3s\tremaining: 119ms\n",
      "978:\tlearn: 16.6443873\ttotal: 5.3s\tremaining: 114ms\n",
      "979:\tlearn: 16.6042332\ttotal: 5.32s\tremaining: 109ms\n",
      "980:\tlearn: 16.5492318\ttotal: 5.32s\tremaining: 103ms\n",
      "981:\tlearn: 16.5167908\ttotal: 5.33s\tremaining: 97.8ms\n",
      "982:\tlearn: 16.4559049\ttotal: 5.34s\tremaining: 92.4ms\n",
      "983:\tlearn: 16.4480733\ttotal: 5.35s\tremaining: 87.1ms\n",
      "984:\tlearn: 16.3741938\ttotal: 5.36s\tremaining: 81.7ms\n",
      "985:\tlearn: 16.3125340\ttotal: 5.37s\tremaining: 76.3ms\n",
      "986:\tlearn: 16.2535755\ttotal: 5.38s\tremaining: 70.9ms\n",
      "987:\tlearn: 16.2313277\ttotal: 5.39s\tremaining: 65.5ms\n",
      "988:\tlearn: 16.2207508\ttotal: 5.4s\tremaining: 60ms\n",
      "989:\tlearn: 16.1664293\ttotal: 5.41s\tremaining: 54.6ms\n",
      "990:\tlearn: 16.1047678\ttotal: 5.41s\tremaining: 49.1ms\n",
      "991:\tlearn: 16.0823334\ttotal: 5.42s\tremaining: 43.7ms\n",
      "992:\tlearn: 16.0579823\ttotal: 5.42s\tremaining: 38.2ms\n",
      "993:\tlearn: 16.0307364\ttotal: 5.43s\tremaining: 32.8ms\n",
      "994:\tlearn: 16.0239033\ttotal: 5.43s\tremaining: 27.3ms\n",
      "995:\tlearn: 15.9523914\ttotal: 5.44s\tremaining: 21.8ms\n",
      "996:\tlearn: 15.8931987\ttotal: 5.44s\tremaining: 16.4ms\n",
      "997:\tlearn: 15.8545412\ttotal: 5.45s\tremaining: 10.9ms\n",
      "998:\tlearn: 15.8483309\ttotal: 5.45s\tremaining: 5.46ms\n",
      "999:\tlearn: 15.7966042\ttotal: 5.46s\tremaining: 0us\n"
     ]
    }
   ],
   "source": [
    "catb = CatBoostRegressor()\n",
    "catb_model = catb.fit(X_train, y_train)"
   ]
  },
  {
   "cell_type": "code",
   "execution_count": 20,
   "metadata": {},
   "outputs": [
    {
     "data": {
      "text/plain": [
       "370.0088403479506"
      ]
     },
     "execution_count": 20,
     "metadata": {},
     "output_type": "execute_result"
    }
   ],
   "source": [
    "#test\n",
    "y_pred = catb_model.predict(X_test)\n",
    "np.sqrt(mean_squared_error(y_test, y_pred))"
   ]
  },
  {
   "cell_type": "code",
   "execution_count": 21,
   "metadata": {},
   "outputs": [],
   "source": [
    "#Tuning"
   ]
  },
  {
   "cell_type": "code",
   "execution_count": 23,
   "metadata": {},
   "outputs": [],
   "source": [
    "\n",
    "catb_grid = {\n",
    "    'iterations': [200,500,1000,2000],\n",
    "    'learning_rate': [0.01, 0.03, 0.05, 0.1],\n",
    "    'depth': [3,4,5,6,7,8] }"
   ]
  },
  {
   "cell_type": "code",
   "execution_count": 24,
   "metadata": {},
   "outputs": [],
   "source": [
    "catb = CatBoostRegressor()\n",
    "catb_cv_model = GridSearchCV(catb, catb_grid, cv=5, n_jobs = -1, verbose = 2)"
   ]
  },
  {
   "cell_type": "code",
   "execution_count": null,
   "metadata": {},
   "outputs": [
    {
     "name": "stdout",
     "output_type": "stream",
     "text": [
      "Fitting 5 folds for each of 96 candidates, totalling 480 fits\n"
     ]
    },
    {
     "name": "stderr",
     "output_type": "stream",
     "text": [
      "[Parallel(n_jobs=-1)]: Using backend LokyBackend with 4 concurrent workers.\n",
      "[Parallel(n_jobs=-1)]: Done  33 tasks      | elapsed:   15.6s\n",
      "[Parallel(n_jobs=-1)]: Done 154 tasks      | elapsed:  3.7min\n",
      "[Parallel(n_jobs=-1)]: Done 357 tasks      | elapsed: 13.3min\n"
     ]
    }
   ],
   "source": [
    "catb_cv_model.fit(X_train, y_train)"
   ]
  },
  {
   "cell_type": "code",
   "execution_count": null,
   "metadata": {},
   "outputs": [],
   "source": [
    "catb_cv_model.best_params_"
   ]
  },
  {
   "cell_type": "code",
   "execution_count": null,
   "metadata": {},
   "outputs": [],
   "source": [
    "catb_tuned = CatBoostRegressor(iterations = 200, \n",
    "                               learning_rate = 0.01, \n",
    "                               depth = 8)\n",
    "\n",
    "catb_tuned = catb_tuned.fit(X_train,y_train)"
   ]
  },
  {
   "cell_type": "code",
   "execution_count": null,
   "metadata": {},
   "outputs": [],
   "source": [
    "y_pred = catb_tuned.predict(X_test)\n",
    "np.sqrt(mean_squared_error(y_test, y_pred))"
   ]
  },
  {
   "cell_type": "code",
   "execution_count": null,
   "metadata": {},
   "outputs": [],
   "source": [
    "#XGboost"
   ]
  },
  {
   "cell_type": "code",
   "execution_count": null,
   "metadata": {},
   "outputs": [],
   "source": [
    "\n",
    "\n",
    "import xgboost as xgb\n",
    "\n",
    "DM_train = xgb.DMatrix(data = X_train, label = y_train)\n",
    "DM_test = xgb.DMatrix(data = X_test, label = y_test)\n",
    "\n",
    "from xgboost import XGBRegressor\n",
    "\n",
    "xgb_model = XGBRegressor().fit(X"
   ]
  },
  {
   "cell_type": "code",
   "execution_count": null,
   "metadata": {},
   "outputs": [],
   "source": [
    "y_pred = xgb_model.predict(X_test)\n",
    "np.sqrt(mean_squared_error(y_test, y_pred))"
   ]
  },
  {
   "cell_type": "code",
   "execution_count": null,
   "metadata": {},
   "outputs": [],
   "source": [
    "#Tuning"
   ]
  },
  {
   "cell_type": "code",
   "execution_count": null,
   "metadata": {},
   "outputs": [],
   "source": [
    "\n",
    "xgb_grid = {\n",
    "     'colsample_bytree': [0.4, 0.5,0.6,0.9,1], \n",
    "     'n_estimators':[100, 200, 500, 1000],\n",
    "     'max_depth': [2,3,4,5,6],\n",
    "     'learning_rate': [0.1, 0.01, 0.5]\n",
    "}\n"
   ]
  },
  {
   "cell_type": "code",
   "execution_count": null,
   "metadata": {},
   "outputs": [],
   "source": [
    "xgb = XGBRegressor()\n",
    "\n",
    "xgb_cv = GridSearchCV(xgb, \n",
    "                      param_grid = xgb_grid, \n",
    "                      cv = 10, \n",
    "                      n_jobs = -1,\n",
    "                      verbose = 2)\n",
    "\n",
    "\n",
    "xgb_cv.fit(X_train, y_train)"
   ]
  },
  {
   "cell_type": "code",
   "execution_count": null,
   "metadata": {},
   "outputs": [],
   "source": [
    "xgb_cv.best_params_"
   ]
  },
  {
   "cell_type": "code",
   "execution_count": null,
   "metadata": {},
   "outputs": [],
   "source": [
    "xgb_tuned = XGBRegressor(colsample_bytree = 0.9, \n",
    "                         learning_rate = 0.01, \n",
    "                         max_depth = 5, \n",
    "                         n_estimators = 1000) \n",
    "\n",
    "xgb_tuned = xgb_tuned.fit(X_train,y_train)"
   ]
  },
  {
   "cell_type": "code",
   "execution_count": null,
   "metadata": {},
   "outputs": [],
   "source": [
    "y_pred = xgb_tuned.predict(X_test)\n",
    "np.sqrt(mean_squared_error(y_test, y_pred))"
   ]
  }
 ],
 "metadata": {
  "kernelspec": {
   "display_name": "Python 3",
   "language": "python",
   "name": "python3"
  },
  "language_info": {
   "codemirror_mode": {
    "name": "ipython",
    "version": 3
   },
   "file_extension": ".py",
   "mimetype": "text/x-python",
   "name": "python",
   "nbconvert_exporter": "python",
   "pygments_lexer": "ipython3",
   "version": "3.7.6"
  }
 },
 "nbformat": 4,
 "nbformat_minor": 4
}
